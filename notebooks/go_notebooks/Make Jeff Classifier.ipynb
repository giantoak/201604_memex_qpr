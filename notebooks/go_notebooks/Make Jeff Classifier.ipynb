{
 "cells": [
  {
   "cell_type": "markdown",
   "metadata": {},
   "source": [
    "# Variant of the Original Jeff Classifier\n",
    "\n",
    "This notebook copies and build out Part III of `jeff_classifier.py` - that is, the section that trains and tests a classifier on the generated data.\n",
    "\n",
    "## Setup"
   ]
  },
  {
   "cell_type": "code",
   "execution_count": 1,
   "metadata": {
    "collapsed": false
   },
   "outputs": [],
   "source": [
    "from itertools import chain\n",
    "import html\n",
    "import ujson as json\n",
    "import multiprocessing as mp\n",
    "import pickle\n",
    "import numpy as np\n",
    "import pandas as pd\n",
    "import seaborn as sns\n",
    "\n",
    "from sklearn.ensemble import ExtraTreesClassifier\n",
    "from sklearn.ensemble import RandomForestClassifier\n",
    "from sklearn.cross_validation import StratifiedKFold\n",
    "\n",
    "from helpers import all_scoring_metrics\n",
    "from helpers import draw_rocs\n",
    "\n",
    "%matplotlib inline\n",
    "sns.set(font='monospace')\n",
    "\n",
    "num_folds = 10\n",
    "eval_columns = ['f1',\n",
    "                'accuracy',\n",
    "                'true_negative_rate',\n",
    "                'true_positive_rate',\n",
    "                'roc_auc',\n",
    "                'roc_fpr',\n",
    "                'roc_tpr',\n",
    "                'roc_thresholds']\n",
    "price_cols = ['duration_in_mins',\n",
    "              'price',\n",
    "              'price_per_min']"
   ]
  },
  {
   "cell_type": "code",
   "execution_count": 2,
   "metadata": {
    "collapsed": false
   },
   "outputs": [
    {
     "name": "stdout",
     "output_type": "stream",
     "text": [
      "(567, 150)\n",
      "False    508\n",
      "True      59\n",
      "Name: class, dtype: int64\n"
     ]
    }
   ],
   "source": [
    "df = pd.read_pickle('../../data/merged/data_to_use_by_phone_v4.pkl')\n",
    "print(df.shape)\n",
    "print(df['class'].value_counts())"
   ]
  },
  {
   "cell_type": "code",
   "execution_count": 3,
   "metadata": {
    "collapsed": true
   },
   "outputs": [],
   "source": [
    "id_cols = {'class', 'phone'}\n",
    "price_cols = {x for x in df.columns if x.find('price') > -1}\n",
    "duration_cols = {x for x in df.columns if x.find('duration') > -1}\n",
    "flag_cols = {x for x in df.columns if x.find('flag_') > -1}\n",
    "ethnicity_cols = {x for x in df.columns if x.find('ethnicity_') > -1}"
   ]
  },
  {
   "cell_type": "code",
   "execution_count": 4,
   "metadata": {
    "collapsed": false
   },
   "outputs": [],
   "source": [
    "etc = ExtraTreesClassifier(oob_score=True,\n",
    "                           bootstrap=True,\n",
    "                           random_state=2,\n",
    "                           n_estimators=100,\n",
    "                           n_jobs=-1,\n",
    "                           class_weight=\"balanced\")\n",
    "\n",
    "rf = RandomForestClassifier(oob_score=True,\n",
    "                            random_state=2,\n",
    "                            n_estimators=100,\n",
    "                            n_jobs=-1,\n",
    "                            class_weight=\"balanced\")"
   ]
  },
  {
   "cell_type": "markdown",
   "metadata": {},
   "source": [
    "## Execution!"
   ]
  },
  {
   "cell_type": "code",
   "execution_count": 5,
   "metadata": {
    "collapsed": false
   },
   "outputs": [
    {
     "name": "stdout",
     "output_type": "stream",
     "text": [
      "(567,)\n",
      "(567, 148)\n"
     ]
    }
   ],
   "source": [
    "y_series = df['class']\n",
    "X_df = df.loc[:, sorted(set(df.columns) - id_cols)]\n",
    "print(y_series.shape)\n",
    "print(X_df.shape)"
   ]
  },
  {
   "cell_type": "markdown",
   "metadata": {},
   "source": [
    "### Extra Trees"
   ]
  },
  {
   "cell_type": "code",
   "execution_count": 6,
   "metadata": {
    "collapsed": false
   },
   "outputs": [
    {
     "name": "stdout",
     "output_type": "stream",
     "text": [
      "0.861111111111111\n"
     ]
    },
    {
     "data": {
      "text/html": [
       "<div>\n",
       "<table border=\"1\" class=\"dataframe\">\n",
       "  <thead>\n",
       "    <tr style=\"text-align: right;\">\n",
       "      <th></th>\n",
       "      <th>f1</th>\n",
       "      <th>accuracy</th>\n",
       "      <th>true_negative_rate</th>\n",
       "      <th>true_positive_rate</th>\n",
       "      <th>roc_auc</th>\n",
       "      <th>roc_fpr</th>\n",
       "      <th>roc_tpr</th>\n",
       "      <th>roc_thresholds</th>\n",
       "    </tr>\n",
       "  </thead>\n",
       "  <tbody>\n",
       "    <tr>\n",
       "      <th>0</th>\n",
       "      <td>0.250000</td>\n",
       "      <td>0.894737</td>\n",
       "      <td>0.980392</td>\n",
       "      <td>0.166667</td>\n",
       "      <td>0.823529</td>\n",
       "      <td>[0.0, 0.0196078431373, 0.0196078431373, 0.1372...</td>\n",
       "      <td>[0.0, 0.0, 0.166666666667, 0.166666666667, 0.3...</td>\n",
       "      <td>[1.88251400489, 0.882514004893, 0.74, 0.22, 0....</td>\n",
       "    </tr>\n",
       "    <tr>\n",
       "      <th>1</th>\n",
       "      <td>0.000000</td>\n",
       "      <td>0.824561</td>\n",
       "      <td>0.921569</td>\n",
       "      <td>0.000000</td>\n",
       "      <td>0.751634</td>\n",
       "      <td>[0.0, 0.0588235294118, 0.0980392156863, 0.0980...</td>\n",
       "      <td>[0.0, 0.0, 0.0, 0.166666666667, 0.166666666667...</td>\n",
       "      <td>[1.89972804897, 0.899728048968, 0.49, 0.46, 0....</td>\n",
       "    </tr>\n",
       "    <tr>\n",
       "      <th>2</th>\n",
       "      <td>0.000000</td>\n",
       "      <td>0.877193</td>\n",
       "      <td>0.980392</td>\n",
       "      <td>0.000000</td>\n",
       "      <td>0.630719</td>\n",
       "      <td>[0.0, 0.0196078431373, 0.176470588235, 0.17647...</td>\n",
       "      <td>[0.0, 0.0, 0.0, 0.166666666667, 0.166666666667...</td>\n",
       "      <td>[1.88064484535, 0.880644845353, 0.17, 0.16, 0....</td>\n",
       "    </tr>\n",
       "    <tr>\n",
       "      <th>3</th>\n",
       "      <td>0.166667</td>\n",
       "      <td>0.824561</td>\n",
       "      <td>0.901961</td>\n",
       "      <td>0.166667</td>\n",
       "      <td>0.905229</td>\n",
       "      <td>[0.0, 0.078431372549, 0.0980392156863, 0.09803...</td>\n",
       "      <td>[0.0, 0.166666666667, 0.166666666667, 0.5, 0.6...</td>\n",
       "      <td>[1.89995248779, 0.899952487788, 0.609580854868...</td>\n",
       "    </tr>\n",
       "    <tr>\n",
       "      <th>4</th>\n",
       "      <td>0.153846</td>\n",
       "      <td>0.807018</td>\n",
       "      <td>0.882353</td>\n",
       "      <td>0.166667</td>\n",
       "      <td>0.841503</td>\n",
       "      <td>[0.0, 0.0980392156863, 0.117647058824, 0.11764...</td>\n",
       "      <td>[0.0, 0.0, 0.0, 0.166666666667, 0.166666666667...</td>\n",
       "      <td>[1.91580351996, 0.915803519962, 0.869241442639...</td>\n",
       "    </tr>\n",
       "    <tr>\n",
       "      <th>5</th>\n",
       "      <td>0.285714</td>\n",
       "      <td>0.912281</td>\n",
       "      <td>1.000000</td>\n",
       "      <td>0.166667</td>\n",
       "      <td>0.949346</td>\n",
       "      <td>[0.0, 0.0, 0.0392156862745, 0.0392156862745, 0...</td>\n",
       "      <td>[0.166666666667, 0.5, 0.5, 0.666666666667, 0.8...</td>\n",
       "      <td>[0.55, 0.42, 0.33, 0.27, 0.24, 0.23, 0.22, 0.1...</td>\n",
       "    </tr>\n",
       "    <tr>\n",
       "      <th>6</th>\n",
       "      <td>0.444444</td>\n",
       "      <td>0.912281</td>\n",
       "      <td>0.980392</td>\n",
       "      <td>0.333333</td>\n",
       "      <td>0.818627</td>\n",
       "      <td>[0.0, 0.0196078431373, 0.0196078431373, 0.1372...</td>\n",
       "      <td>[0.0, 0.0, 0.333333333333, 0.333333333333, 0.5...</td>\n",
       "      <td>[1.76491430986, 0.764914309858, 0.55, 0.34, 0....</td>\n",
       "    </tr>\n",
       "    <tr>\n",
       "      <th>7</th>\n",
       "      <td>0.285714</td>\n",
       "      <td>0.912281</td>\n",
       "      <td>1.000000</td>\n",
       "      <td>0.166667</td>\n",
       "      <td>0.890523</td>\n",
       "      <td>[0.0, 0.0, 0.078431372549, 0.117647058824, 0.1...</td>\n",
       "      <td>[0.166666666667, 0.333333333333, 0.33333333333...</td>\n",
       "      <td>[0.73, 0.39, 0.26, 0.22, 0.2, 0.19888384902, 0...</td>\n",
       "    </tr>\n",
       "    <tr>\n",
       "      <th>8</th>\n",
       "      <td>1.000000</td>\n",
       "      <td>1.000000</td>\n",
       "      <td>1.000000</td>\n",
       "      <td>1.000000</td>\n",
       "      <td>1.000000</td>\n",
       "      <td>[0.0, 0.1, 0.16, 0.24, 0.28, 0.3, 0.34, 0.38, ...</td>\n",
       "      <td>[1.0, 1.0, 1.0, 1.0, 1.0, 1.0, 1.0, 1.0, 1.0, ...</td>\n",
       "      <td>[0.761265091846, 0.27, 0.25, 0.18, 0.17, 0.14,...</td>\n",
       "    </tr>\n",
       "    <tr>\n",
       "      <th>9</th>\n",
       "      <td>0.909091</td>\n",
       "      <td>0.981818</td>\n",
       "      <td>0.980000</td>\n",
       "      <td>1.000000</td>\n",
       "      <td>1.000000</td>\n",
       "      <td>[0.0, 0.14, 0.22, 0.24, 0.28, 0.38, 0.42, 0.46...</td>\n",
       "      <td>[1.0, 1.0, 1.0, 1.0, 1.0, 1.0, 1.0, 1.0, 1.0, ...</td>\n",
       "      <td>[0.78637271457, 0.17, 0.15, 0.13, 0.12, 0.07, ...</td>\n",
       "    </tr>\n",
       "  </tbody>\n",
       "</table>\n",
       "</div>"
      ],
      "text/plain": [
       "         f1  accuracy  true_negative_rate  true_positive_rate   roc_auc  \\\n",
       "0  0.250000  0.894737            0.980392            0.166667  0.823529   \n",
       "1  0.000000  0.824561            0.921569            0.000000  0.751634   \n",
       "2  0.000000  0.877193            0.980392            0.000000  0.630719   \n",
       "3  0.166667  0.824561            0.901961            0.166667  0.905229   \n",
       "4  0.153846  0.807018            0.882353            0.166667  0.841503   \n",
       "5  0.285714  0.912281            1.000000            0.166667  0.949346   \n",
       "6  0.444444  0.912281            0.980392            0.333333  0.818627   \n",
       "7  0.285714  0.912281            1.000000            0.166667  0.890523   \n",
       "8  1.000000  1.000000            1.000000            1.000000  1.000000   \n",
       "9  0.909091  0.981818            0.980000            1.000000  1.000000   \n",
       "\n",
       "                                             roc_fpr  \\\n",
       "0  [0.0, 0.0196078431373, 0.0196078431373, 0.1372...   \n",
       "1  [0.0, 0.0588235294118, 0.0980392156863, 0.0980...   \n",
       "2  [0.0, 0.0196078431373, 0.176470588235, 0.17647...   \n",
       "3  [0.0, 0.078431372549, 0.0980392156863, 0.09803...   \n",
       "4  [0.0, 0.0980392156863, 0.117647058824, 0.11764...   \n",
       "5  [0.0, 0.0, 0.0392156862745, 0.0392156862745, 0...   \n",
       "6  [0.0, 0.0196078431373, 0.0196078431373, 0.1372...   \n",
       "7  [0.0, 0.0, 0.078431372549, 0.117647058824, 0.1...   \n",
       "8  [0.0, 0.1, 0.16, 0.24, 0.28, 0.3, 0.34, 0.38, ...   \n",
       "9  [0.0, 0.14, 0.22, 0.24, 0.28, 0.38, 0.42, 0.46...   \n",
       "\n",
       "                                             roc_tpr  \\\n",
       "0  [0.0, 0.0, 0.166666666667, 0.166666666667, 0.3...   \n",
       "1  [0.0, 0.0, 0.0, 0.166666666667, 0.166666666667...   \n",
       "2  [0.0, 0.0, 0.0, 0.166666666667, 0.166666666667...   \n",
       "3  [0.0, 0.166666666667, 0.166666666667, 0.5, 0.6...   \n",
       "4  [0.0, 0.0, 0.0, 0.166666666667, 0.166666666667...   \n",
       "5  [0.166666666667, 0.5, 0.5, 0.666666666667, 0.8...   \n",
       "6  [0.0, 0.0, 0.333333333333, 0.333333333333, 0.5...   \n",
       "7  [0.166666666667, 0.333333333333, 0.33333333333...   \n",
       "8  [1.0, 1.0, 1.0, 1.0, 1.0, 1.0, 1.0, 1.0, 1.0, ...   \n",
       "9  [1.0, 1.0, 1.0, 1.0, 1.0, 1.0, 1.0, 1.0, 1.0, ...   \n",
       "\n",
       "                                      roc_thresholds  \n",
       "0  [1.88251400489, 0.882514004893, 0.74, 0.22, 0....  \n",
       "1  [1.89972804897, 0.899728048968, 0.49, 0.46, 0....  \n",
       "2  [1.88064484535, 0.880644845353, 0.17, 0.16, 0....  \n",
       "3  [1.89995248779, 0.899952487788, 0.609580854868...  \n",
       "4  [1.91580351996, 0.915803519962, 0.869241442639...  \n",
       "5  [0.55, 0.42, 0.33, 0.27, 0.24, 0.23, 0.22, 0.1...  \n",
       "6  [1.76491430986, 0.764914309858, 0.55, 0.34, 0....  \n",
       "7  [0.73, 0.39, 0.26, 0.22, 0.2, 0.19888384902, 0...  \n",
       "8  [0.761265091846, 0.27, 0.25, 0.18, 0.17, 0.14,...  \n",
       "9  [0.78637271457, 0.17, 0.15, 0.13, 0.12, 0.07, ...  "
      ]
     },
     "execution_count": 6,
     "metadata": {},
     "output_type": "execute_result"
    }
   ],
   "source": [
    "etc_metrics = all_scoring_metrics(etc, X_df, y_series, StratifiedKFold(y_series, num_folds))\n",
    "print(etc_metrics.roc_auc.mean())\n",
    "etc_metrics.loc[:, eval_columns]"
   ]
  },
  {
   "cell_type": "code",
   "execution_count": 7,
   "metadata": {
    "collapsed": false
   },
   "outputs": [
    {
     "data": {
      "text/plain": [
       "missing_similar_images_count:max             0.042835\n",
       "missing_exp_ads_from_simimages_count:max     0.033108\n",
       "missing_similar_images_count:50%             0.031104\n",
       "missing_exp_ads_from_simimages_count:50%     0.024144\n",
       "missing_exp_ads_from_simimages_count:75%     0.022991\n",
       "missing_exp_ads_from_simimages_count:mean    0.022114\n",
       "missing_similar_images_count:mean            0.020084\n",
       "missing_similar_images_count:std             0.018508\n",
       "missing_exp_ads_from_simimages_count:std     0.017943\n",
       "missing_similar_images_count:75%             0.017718\n",
       "flag_Juvenile                                0.017661\n",
       "n_incall                                     0.016182\n",
       "n_ads                                        0.015910\n",
       "age:min                                      0.014995\n",
       "n_incall_and_outcall                         0.014335\n",
       "images_count:min                             0.013553\n",
       "n_distinct_locations                         0.013448\n",
       "age:max                                      0.013415\n",
       "images_count:max                             0.012842\n",
       "location_tree_length                         0.012821\n",
       "dtype: float64"
      ]
     },
     "execution_count": 7,
     "metadata": {},
     "output_type": "execute_result"
    }
   ],
   "source": [
    "etc_metrics.loc[:,  sorted(set(etc_metrics.columns) - set(eval_columns))].mean().sort_values(ascending=False).head(20)"
   ]
  },
  {
   "cell_type": "code",
   "execution_count": 8,
   "metadata": {
    "collapsed": false
   },
   "outputs": [
    {
     "data": {
      "image/png": "[encoded data removed]",
      "text/plain": [
       "<matplotlib.figure.Figure at 0x11aa332b0>"
      ]
     },
     "metadata": {},
     "output_type": "display_data"
    }
   ],
   "source": [
    "draw_rocs(etc_metrics, 'Extra Trees')"
   ]
  },
  {
   "cell_type": "markdown",
   "metadata": {},
   "source": [
    "### Random Forest"
   ]
  },
  {
   "cell_type": "code",
   "execution_count": 9,
   "metadata": {
    "collapsed": false
   },
   "outputs": [
    {
     "name": "stdout",
     "output_type": "stream",
     "text": [
      "0.856045751633987\n"
     ]
    },
    {
     "data": {
      "text/html": [
       "<div>\n",
       "<table border=\"1\" class=\"dataframe\">\n",
       "  <thead>\n",
       "    <tr style=\"text-align: right;\">\n",
       "      <th></th>\n",
       "      <th>f1</th>\n",
       "      <th>accuracy</th>\n",
       "      <th>true_negative_rate</th>\n",
       "      <th>true_positive_rate</th>\n",
       "      <th>roc_auc</th>\n",
       "      <th>roc_fpr</th>\n",
       "      <th>roc_tpr</th>\n",
       "      <th>roc_thresholds</th>\n",
       "    </tr>\n",
       "  </thead>\n",
       "  <tbody>\n",
       "    <tr>\n",
       "      <th>0</th>\n",
       "      <td>0.250000</td>\n",
       "      <td>0.894737</td>\n",
       "      <td>0.980392</td>\n",
       "      <td>0.166667</td>\n",
       "      <td>0.864379</td>\n",
       "      <td>[0.0, 0.0196078431373, 0.0196078431373, 0.0784...</td>\n",
       "      <td>[0.0, 0.0, 0.166666666667, 0.166666666667, 0.3...</td>\n",
       "      <td>[1.88251400489, 0.882514004893, 0.6, 0.27, 0.2...</td>\n",
       "    </tr>\n",
       "    <tr>\n",
       "      <th>1</th>\n",
       "      <td>0.000000</td>\n",
       "      <td>0.807018</td>\n",
       "      <td>0.901961</td>\n",
       "      <td>0.000000</td>\n",
       "      <td>0.733660</td>\n",
       "      <td>[0.0, 0.0588235294118, 0.0980392156863, 0.0980...</td>\n",
       "      <td>[0.0, 0.0, 0.0, 0.166666666667, 0.166666666667...</td>\n",
       "      <td>[1.89972804897, 0.899728048968, 0.55, 0.43, 0....</td>\n",
       "    </tr>\n",
       "    <tr>\n",
       "      <th>2</th>\n",
       "      <td>0.000000</td>\n",
       "      <td>0.877193</td>\n",
       "      <td>0.980392</td>\n",
       "      <td>0.000000</td>\n",
       "      <td>0.490196</td>\n",
       "      <td>[0.0, 0.0196078431373, 0.078431372549, 0.11764...</td>\n",
       "      <td>[0.0, 0.0, 0.0, 0.0, 0.0, 0.0, 0.0, 0.0, 0.166...</td>\n",
       "      <td>[1.88064484535, 0.880644845353, 0.22, 0.21, 0....</td>\n",
       "    </tr>\n",
       "    <tr>\n",
       "      <th>3</th>\n",
       "      <td>0.285714</td>\n",
       "      <td>0.824561</td>\n",
       "      <td>0.882353</td>\n",
       "      <td>0.333333</td>\n",
       "      <td>0.895425</td>\n",
       "      <td>[0.0, 0.078431372549, 0.117647058824, 0.117647...</td>\n",
       "      <td>[0.0, 0.166666666667, 0.166666666667, 1.0, 1.0...</td>\n",
       "      <td>[1.89995248779, 0.899952487788, 0.616684974303...</td>\n",
       "    </tr>\n",
       "    <tr>\n",
       "      <th>4</th>\n",
       "      <td>0.000000</td>\n",
       "      <td>0.771930</td>\n",
       "      <td>0.862745</td>\n",
       "      <td>0.000000</td>\n",
       "      <td>0.839869</td>\n",
       "      <td>[0.0, 0.0980392156863, 0.137254901961, 0.13725...</td>\n",
       "      <td>[0.0, 0.0, 0.0, 0.333333333333, 0.666666666667...</td>\n",
       "      <td>[1.91580351996, 0.915803519962, 0.66, 0.39, 0....</td>\n",
       "    </tr>\n",
       "    <tr>\n",
       "      <th>5</th>\n",
       "      <td>0.500000</td>\n",
       "      <td>0.929825</td>\n",
       "      <td>1.000000</td>\n",
       "      <td>0.333333</td>\n",
       "      <td>0.952614</td>\n",
       "      <td>[0.0, 0.0, 0.0392156862745, 0.0392156862745, 0...</td>\n",
       "      <td>[0.166666666667, 0.5, 0.5, 0.666666666667, 0.6...</td>\n",
       "      <td>[0.59, 0.37, 0.29, 0.28, 0.27, 0.26, 0.16, 0.1...</td>\n",
       "    </tr>\n",
       "    <tr>\n",
       "      <th>6</th>\n",
       "      <td>0.444444</td>\n",
       "      <td>0.912281</td>\n",
       "      <td>0.980392</td>\n",
       "      <td>0.333333</td>\n",
       "      <td>0.831699</td>\n",
       "      <td>[0.0, 0.0196078431373, 0.0196078431373, 0.0392...</td>\n",
       "      <td>[0.0, 0.0, 0.333333333333, 0.333333333333, 0.3...</td>\n",
       "      <td>[1.81218482, 0.81218482, 0.57, 0.44, 0.42, 0.2...</td>\n",
       "    </tr>\n",
       "    <tr>\n",
       "      <th>7</th>\n",
       "      <td>0.666667</td>\n",
       "      <td>0.947368</td>\n",
       "      <td>1.000000</td>\n",
       "      <td>0.500000</td>\n",
       "      <td>0.952614</td>\n",
       "      <td>[0.0, 0.0, 0.0196078431373, 0.0196078431373, 0...</td>\n",
       "      <td>[0.166666666667, 0.5, 0.5, 0.666666666667, 0.8...</td>\n",
       "      <td>[0.63, 0.52, 0.32, 0.28, 0.27, 0.18, 0.16, 0.1...</td>\n",
       "    </tr>\n",
       "    <tr>\n",
       "      <th>8</th>\n",
       "      <td>1.000000</td>\n",
       "      <td>1.000000</td>\n",
       "      <td>1.000000</td>\n",
       "      <td>1.000000</td>\n",
       "      <td>1.000000</td>\n",
       "      <td>[0.0, 0.04, 0.12, 0.2, 0.24, 0.26, 0.3, 0.36, ...</td>\n",
       "      <td>[1.0, 1.0, 1.0, 1.0, 1.0, 1.0, 1.0, 1.0, 1.0, ...</td>\n",
       "      <td>[0.761265091846, 0.42, 0.28, 0.19, 0.18, 0.16,...</td>\n",
       "    </tr>\n",
       "    <tr>\n",
       "      <th>9</th>\n",
       "      <td>1.000000</td>\n",
       "      <td>1.000000</td>\n",
       "      <td>1.000000</td>\n",
       "      <td>1.000000</td>\n",
       "      <td>1.000000</td>\n",
       "      <td>[0.0, 0.02, 0.06, 0.16, 0.22, 0.24, 0.3, 0.42,...</td>\n",
       "      <td>[1.0, 1.0, 1.0, 1.0, 1.0, 1.0, 1.0, 1.0, 1.0, ...</td>\n",
       "      <td>[0.78637271457, 0.45, 0.39, 0.14, 0.12, 0.11, ...</td>\n",
       "    </tr>\n",
       "  </tbody>\n",
       "</table>\n",
       "</div>"
      ],
      "text/plain": [
       "         f1  accuracy  true_negative_rate  true_positive_rate   roc_auc  \\\n",
       "0  0.250000  0.894737            0.980392            0.166667  0.864379   \n",
       "1  0.000000  0.807018            0.901961            0.000000  0.733660   \n",
       "2  0.000000  0.877193            0.980392            0.000000  0.490196   \n",
       "3  0.285714  0.824561            0.882353            0.333333  0.895425   \n",
       "4  0.000000  0.771930            0.862745            0.000000  0.839869   \n",
       "5  0.500000  0.929825            1.000000            0.333333  0.952614   \n",
       "6  0.444444  0.912281            0.980392            0.333333  0.831699   \n",
       "7  0.666667  0.947368            1.000000            0.500000  0.952614   \n",
       "8  1.000000  1.000000            1.000000            1.000000  1.000000   \n",
       "9  1.000000  1.000000            1.000000            1.000000  1.000000   \n",
       "\n",
       "                                             roc_fpr  \\\n",
       "0  [0.0, 0.0196078431373, 0.0196078431373, 0.0784...   \n",
       "1  [0.0, 0.0588235294118, 0.0980392156863, 0.0980...   \n",
       "2  [0.0, 0.0196078431373, 0.078431372549, 0.11764...   \n",
       "3  [0.0, 0.078431372549, 0.117647058824, 0.117647...   \n",
       "4  [0.0, 0.0980392156863, 0.137254901961, 0.13725...   \n",
       "5  [0.0, 0.0, 0.0392156862745, 0.0392156862745, 0...   \n",
       "6  [0.0, 0.0196078431373, 0.0196078431373, 0.0392...   \n",
       "7  [0.0, 0.0, 0.0196078431373, 0.0196078431373, 0...   \n",
       "8  [0.0, 0.04, 0.12, 0.2, 0.24, 0.26, 0.3, 0.36, ...   \n",
       "9  [0.0, 0.02, 0.06, 0.16, 0.22, 0.24, 0.3, 0.42,...   \n",
       "\n",
       "                                             roc_tpr  \\\n",
       "0  [0.0, 0.0, 0.166666666667, 0.166666666667, 0.3...   \n",
       "1  [0.0, 0.0, 0.0, 0.166666666667, 0.166666666667...   \n",
       "2  [0.0, 0.0, 0.0, 0.0, 0.0, 0.0, 0.0, 0.0, 0.166...   \n",
       "3  [0.0, 0.166666666667, 0.166666666667, 1.0, 1.0...   \n",
       "4  [0.0, 0.0, 0.0, 0.333333333333, 0.666666666667...   \n",
       "5  [0.166666666667, 0.5, 0.5, 0.666666666667, 0.6...   \n",
       "6  [0.0, 0.0, 0.333333333333, 0.333333333333, 0.3...   \n",
       "7  [0.166666666667, 0.5, 0.5, 0.666666666667, 0.8...   \n",
       "8  [1.0, 1.0, 1.0, 1.0, 1.0, 1.0, 1.0, 1.0, 1.0, ...   \n",
       "9  [1.0, 1.0, 1.0, 1.0, 1.0, 1.0, 1.0, 1.0, 1.0, ...   \n",
       "\n",
       "                                      roc_thresholds  \n",
       "0  [1.88251400489, 0.882514004893, 0.6, 0.27, 0.2...  \n",
       "1  [1.89972804897, 0.899728048968, 0.55, 0.43, 0....  \n",
       "2  [1.88064484535, 0.880644845353, 0.22, 0.21, 0....  \n",
       "3  [1.89995248779, 0.899952487788, 0.616684974303...  \n",
       "4  [1.91580351996, 0.915803519962, 0.66, 0.39, 0....  \n",
       "5  [0.59, 0.37, 0.29, 0.28, 0.27, 0.26, 0.16, 0.1...  \n",
       "6  [1.81218482, 0.81218482, 0.57, 0.44, 0.42, 0.2...  \n",
       "7  [0.63, 0.52, 0.32, 0.28, 0.27, 0.18, 0.16, 0.1...  \n",
       "8  [0.761265091846, 0.42, 0.28, 0.19, 0.18, 0.16,...  \n",
       "9  [0.78637271457, 0.45, 0.39, 0.14, 0.12, 0.11, ...  "
      ]
     },
     "execution_count": 9,
     "metadata": {},
     "output_type": "execute_result"
    }
   ],
   "source": [
    "rf_metrics = all_scoring_metrics(rf, X_df, y_series, StratifiedKFold(y_series, num_folds))\n",
    "print(rf_metrics.roc_auc.mean())\n",
    "rf_metrics.loc[:, eval_columns]"
   ]
  },
  {
   "cell_type": "code",
   "execution_count": 10,
   "metadata": {
    "collapsed": false
   },
   "outputs": [
    {
     "data": {
      "text/plain": [
       "missing_exp_ads_from_simimages_count:mean     0.035429\n",
       "missing_similar_images_count:mean             0.033245\n",
       "age:min                                       0.033187\n",
       "age:count                                     0.030219\n",
       "age:mean                                      0.028290\n",
       "exp_ads_from_simimages_count:50%              0.025456\n",
       "missing_age:count                             0.020479\n",
       "age:max                                       0.020102\n",
       "missing_similar_images_count:count            0.019596\n",
       "missing_exp_ads_from_simimages_count:count    0.019392\n",
       "flag_Juvenile                                 0.019364\n",
       "n_ads                                         0.018821\n",
       "missing_exp_ads_from_simimages_count:std      0.018572\n",
       "missing_similar_images_count:std              0.018024\n",
       "similar_images_count:25%                      0.017886\n",
       "missing_price:count                           0.017616\n",
       "missing_duration_in_mins:count                0.017075\n",
       "similar_images_count:50%                      0.016949\n",
       "missing_price_per_min:count                   0.016280\n",
       "images_count:25%                              0.015974\n",
       "dtype: float64"
      ]
     },
     "execution_count": 10,
     "metadata": {},
     "output_type": "execute_result"
    }
   ],
   "source": [
    "rf_metrics.loc[:,  sorted(set(rf_metrics.columns) - set(eval_columns))].mean().sort_values(ascending=False).head(20)"
   ]
  },
  {
   "cell_type": "code",
   "execution_count": 11,
   "metadata": {
    "collapsed": false
   },
   "outputs": [
    {
     "data": {
      "image/png": "[encoded data removed]",
      "text/plain": [
       "<matplotlib.figure.Figure at 0x11f30ef28>"
      ]
     },
     "metadata": {},
     "output_type": "display_data"
    }
   ],
   "source": [
    "draw_rocs(rf_metrics, 'Random Forest')"
   ]
  }
 ],
 "metadata": {
  "kernelspec": {
   "display_name": "Python 3",
   "language": "python",
   "name": "python3"
  },
  "language_info": {
   "codemirror_mode": {
    "name": "ipython",
    "version": 3
   },
   "file_extension": ".py",
   "mimetype": "text/x-python",
   "name": "python",
   "nbconvert_exporter": "python",
   "pygments_lexer": "ipython3",
   "version": "3.5.1"
  },
  "widgets": {
   "state": {},
   "version": "1.1.1"
  }
 },
 "nbformat": 4,
 "nbformat_minor": 0
}
