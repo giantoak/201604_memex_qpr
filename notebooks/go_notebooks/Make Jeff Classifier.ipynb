{
 "cells": [
  {
   "cell_type": "markdown",
   "metadata": {},
   "source": [
    "# Setup\n",
    "## Imports"
   ]
  },
  {
   "cell_type": "code",
   "execution_count": 1,
   "metadata": {
    "collapsed": false
   },
   "outputs": [],
   "source": [
    "from itertools import chain\n",
    "import ujson as json\n",
    "import multiprocessing as mp\n",
    "import numpy as np\n",
    "import pandas as pd\n",
    "import seaborn as sns\n",
    "from sklearn.linear_model import LinearRegression\n",
    "from sklearn.ensemble import ExtraTreesClassifier\n",
    "from sklearn.cross_validation import ShuffleSplit\n",
    "from sklearn.metrics import roc_curve\n",
    "from sklearn.metrics import auc\n",
    "from sklearn.cross_validation import StratifiedKFold\n",
    "from sklearn.metrics import roc_auc_score\n",
    "from sklearn.ensemble import ExtraTreesClassifier\n",
    "\n",
    "from helpers import disaggregated_df\n",
    "from helpers import aggregated_df\n",
    "from helpers import dummify_df\n",
    "\n",
    "from helpers import score_metrics\n",
    "from helpers import all_scoring_metrics\n",
    "\n",
    "%matplotlib inline\n",
    "sns.set(font='monospace')"
   ]
  },
  {
   "cell_type": "code",
   "execution_count": 2,
   "metadata": {
    "collapsed": true
   },
   "outputs": [],
   "source": [
    "df = pd.read_pickle('../../data/merged/data_to_use_by_phone_v4.pkl')"
   ]
  },
  {
   "cell_type": "code",
   "execution_count": 4,
   "metadata": {
    "collapsed": false
   },
   "outputs": [
    {
     "data": {
      "text/plain": [
       "False    85334\n",
       "True     74809\n",
       "Name: class, dtype: int64"
      ]
     },
     "execution_count": 4,
     "metadata": {},
     "output_type": "execute_result"
    }
   ],
   "source": [
    "df['class'] = df['class'].isin(['positive'])\n",
    "df['class'].value_counts()"
   ]
  },
  {
   "cell_type": "code",
   "execution_count": 6,
   "metadata": {
    "collapsed": false
   },
   "outputs": [
    {
     "data": {
      "text/plain": [
       "Index(['phone', 'age_mean', 'price_mean', 'duration_in_mins_mean',\n",
       "       'price_per_min_mean', 'price_per_min_mean', 'n_ads_mean',\n",
       "       'n_distinct_locations_mean', 'location_tree_length_mean',\n",
       "       'n_outcall_mean',\n",
       "       ...\n",
       "       'flag_Derogatory Descriptions_sum_sum',\n",
       "       'flag_Foreign Providers_sum_sum', 'flag_Hotel_sum_sum',\n",
       "       'flag_Juvenile_sum_sum', 'flag_Massage Parlor_sum_sum',\n",
       "       'flag_Multiple Girls_sum_sum', 'flag_Risky Services_sum_sum',\n",
       "       'flag_Traveling_sum_sum', 'flag_URL Embedding_sum_sum', 'class'],\n",
       "      dtype='object', length=132)"
      ]
     },
     "execution_count": 6,
     "metadata": {},
     "output_type": "execute_result"
    }
   ],
   "source": [
    "df.columns"
   ]
  },
  {
   "cell_type": "code",
   "execution_count": 5,
   "metadata": {
    "collapsed": false
   },
   "outputs": [
    {
     "name": "stdout",
     "output_type": "stream",
     "text": [
      "_____\n",
      "Work at phone level...\n"
     ]
    },
    {
     "ename": "NameError",
     "evalue": "name 'phone_level_label' is not defined",
     "output_type": "error",
     "traceback": [
      "\u001b[0;31m---------------------------------------------------------------------------\u001b[0m",
      "\u001b[0;31mNameError\u001b[0m                                 Traceback (most recent call last)",
      "\u001b[0;32m<ipython-input-5-163beed56e7b>\u001b[0m in \u001b[0;36m<module>\u001b[0;34m()\u001b[0m\n\u001b[1;32m     14\u001b[0m metrics = all_scoring_metrics(phone_clf,\n\u001b[1;32m     15\u001b[0m                               \u001b[0mdf\u001b[0m\u001b[0;34m.\u001b[0m\u001b[0mix\u001b[0m\u001b[0;34m[\u001b[0m\u001b[0;34m:\u001b[0m\u001b[0;34m,\u001b[0m \u001b[0;34m[\u001b[0m\u001b[0mx\u001b[0m \u001b[0;32mfor\u001b[0m \u001b[0mx\u001b[0m \u001b[0;32min\u001b[0m \u001b[0mdf\u001b[0m\u001b[0;34m.\u001b[0m\u001b[0mcolumns\u001b[0m \u001b[0;32mif\u001b[0m \u001b[0mx\u001b[0m \u001b[0;32mnot\u001b[0m \u001b[0;32min\u001b[0m \u001b[0;34m{\u001b[0m\u001b[0;34m'class'\u001b[0m\u001b[0;34m,\u001b[0m \u001b[0;34m'phone'\u001b[0m\u001b[0;34m}\u001b[0m\u001b[0;34m]\u001b[0m\u001b[0;34m]\u001b[0m\u001b[0;34m,\u001b[0m\u001b[0;34m\u001b[0m\u001b[0m\n\u001b[0;32m---> 16\u001b[0;31m                               \u001b[0mphone_level_label\u001b[0m\u001b[0;34m,\u001b[0m\u001b[0;34m\u001b[0m\u001b[0m\n\u001b[0m\u001b[1;32m     17\u001b[0m                               StratifiedKFold(phone_level_label, 10))\n\u001b[1;32m     18\u001b[0m \u001b[0mprint\u001b[0m\u001b[0;34m(\u001b[0m\u001b[0;34m\"Results (averaged from 10 fold cross validation and computed out of sample)\"\u001b[0m\u001b[0;34m)\u001b[0m\u001b[0;34m\u001b[0m\u001b[0m\n",
      "\u001b[0;31mNameError\u001b[0m: name 'phone_level_label' is not defined"
     ]
    }
   ],
   "source": [
    "eval_columns = ['f1','accuracy','true_negative_rate','true_positive_rate','roc_auc']\n",
    "price_cols = ['duration_in_mins','price','price_per_min']\n",
    "\n",
    "# work at phone level\n",
    "print(\"_____\")\n",
    "print(\"Work at phone level...\")\n",
    "phone_clf = ExtraTreesClassifier(oob_score=False,\n",
    "                                 bootstrap=False,\n",
    "                                 random_state=2,\n",
    "                                 n_estimators=100,\n",
    "                                 n_jobs=-1,\n",
    "                                 class_weight=\"balanced\")\n",
    "\n",
    "metrics = all_scoring_metrics(phone_clf,\n",
    "                              df.ix[:, [x for x in df.columns if x not in {'class', 'phone'}]],\n",
    "                              phone_level_label,\n",
    "                              StratifiedKFold(phone_level_label, 10))\n",
    "print(\"Results (averaged from 10 fold cross validation and computed out of sample)\")\n",
    "print(metrics[[i for i in metrics.columns if i in eval_columns]])"
   ]
  },
  {
   "cell_type": "code",
   "execution_count": 6,
   "metadata": {
    "collapsed": false
   },
   "outputs": [
    {
     "name": "stdout",
     "output_type": "stream",
     "text": [
      "_____\n",
      "Work at ad level...\n"
     ]
    },
    {
     "ename": "NameError",
     "evalue": "name 'df_X' is not defined",
     "output_type": "error",
     "traceback": [
      "\u001b[0;31m---------------------------------------------------------------------------\u001b[0m",
      "\u001b[0;31mNameError\u001b[0m                                 Traceback (most recent call last)",
      "\u001b[0;32m<ipython-input-6-7752f8f6df8b>\u001b[0m in \u001b[0;36m<module>\u001b[0;34m()\u001b[0m\n\u001b[1;32m      3\u001b[0m \u001b[0mprint\u001b[0m\u001b[0;34m(\u001b[0m\u001b[0;34m\"Work at ad level...\"\u001b[0m\u001b[0;34m)\u001b[0m\u001b[0;34m\u001b[0m\u001b[0m\n\u001b[1;32m      4\u001b[0m \u001b[0mclf\u001b[0m \u001b[0;34m=\u001b[0m \u001b[0mExtraTreesClassifier\u001b[0m\u001b[0;34m(\u001b[0m\u001b[0moob_score\u001b[0m\u001b[0;34m=\u001b[0m\u001b[0;32mTrue\u001b[0m\u001b[0;34m,\u001b[0m \u001b[0mrandom_state\u001b[0m\u001b[0;34m=\u001b[0m\u001b[0;36m2\u001b[0m\u001b[0;34m,\u001b[0m \u001b[0mn_estimators\u001b[0m\u001b[0;34m=\u001b[0m\u001b[0;36m100\u001b[0m\u001b[0;34m,\u001b[0m \u001b[0mn_jobs\u001b[0m\u001b[0;34m=\u001b[0m\u001b[0;34m-\u001b[0m\u001b[0;36m1\u001b[0m\u001b[0;34m,\u001b[0m \u001b[0mclass_weight\u001b[0m\u001b[0;34m=\u001b[0m\u001b[0;34m\"balanced\"\u001b[0m\u001b[0;34m)\u001b[0m\u001b[0;34m\u001b[0m\u001b[0m\n\u001b[0;32m----> 5\u001b[0;31m \u001b[0mmetrics\u001b[0m \u001b[0;34m=\u001b[0m \u001b[0mall_scoring_metrics\u001b[0m\u001b[0;34m(\u001b[0m\u001b[0mclf\u001b[0m\u001b[0;34m,\u001b[0m \u001b[0mdf_X\u001b[0m\u001b[0;34m,\u001b[0m \u001b[0mdf\u001b[0m\u001b[0;34m[\u001b[0m\u001b[0;34m'class'\u001b[0m\u001b[0;34m]\u001b[0m\u001b[0;34m,\u001b[0m \u001b[0mStratifiedKFold\u001b[0m\u001b[0;34m(\u001b[0m\u001b[0mdf\u001b[0m\u001b[0;34m[\u001b[0m\u001b[0;34m'class'\u001b[0m\u001b[0;34m]\u001b[0m\u001b[0;34m,\u001b[0m \u001b[0;36m2\u001b[0m\u001b[0;34m)\u001b[0m\u001b[0;34m)\u001b[0m\u001b[0;34m\u001b[0m\u001b[0m\n\u001b[0m\u001b[1;32m      6\u001b[0m \u001b[0mprint\u001b[0m\u001b[0;34m(\u001b[0m\u001b[0;34m\"Results (averaged from 10 fold cross validation and computed out of sample)\"\u001b[0m\u001b[0;34m)\u001b[0m\u001b[0;34m\u001b[0m\u001b[0m\n\u001b[1;32m      7\u001b[0m \u001b[0mprint\u001b[0m\u001b[0;34m(\u001b[0m\u001b[0mmetrics\u001b[0m\u001b[0;34m[\u001b[0m\u001b[0;34m[\u001b[0m\u001b[0mi\u001b[0m \u001b[0;32mfor\u001b[0m \u001b[0mi\u001b[0m \u001b[0;32min\u001b[0m \u001b[0mmetrics\u001b[0m\u001b[0;34m.\u001b[0m\u001b[0mcolumns\u001b[0m \u001b[0;32mif\u001b[0m \u001b[0mi\u001b[0m \u001b[0;32min\u001b[0m \u001b[0meval_columns\u001b[0m\u001b[0;34m]\u001b[0m\u001b[0;34m]\u001b[0m\u001b[0;34m)\u001b[0m\u001b[0;34m\u001b[0m\u001b[0m\n",
      "\u001b[0;31mNameError\u001b[0m: name 'df_X' is not defined"
     ]
    }
   ],
   "source": [
    "# work at ad level\n",
    "print(\"_____\")\n",
    "print(\"Work at ad level...\")\n",
    "clf = ExtraTreesClassifier(oob_score=True, random_state=2, n_estimators=100, n_jobs=-1, class_weight=\"balanced\")\n",
    "metrics = all_scoring_metrics(clf, df_X, df['class'], StratifiedKFold(df['class'], 2))\n",
    "print(\"Results (averaged from 10 fold cross validation and computed out of sample)\")\n",
    "print(metrics[[i for i in metrics.columns if i in eval_columns]])\n",
    "importances = metrics[[i for i in metrics.columns if i not in eval_columns]]\n",
    "print('Price importances: %s' % importances[[i for i in importances.columns if i in price_cols]].sum(axis=1).iloc[0])\n",
    "print('Age importances: %s' % importances['age'].iloc[0])"
   ]
  },
  {
   "cell_type": "code",
   "execution_count": null,
   "metadata": {
    "collapsed": false
   },
   "outputs": [],
   "source": [
    "flag_cols = [x for x in df.columns if x.split('_')[0] == 'flag']\n",
    "eth_cols = [x for x in df.columns if x.split('_')[0] == 'ethnicity']\n",
    "\n",
    "cols_to_use = ['age',\n",
    "               'price',\n",
    "               'duration_in_mins',\n",
    "               'price_per_min'] + flag_cols + eth_cols\n",
    "\n",
    "df_slice = df.ix[:, ['class',\n",
    "                     'phone',\n",
    "                     'dd_id'] + cols_to_use].copy().drop_duplicates()\n",
    "\n",
    "print(df_slice.shape)\n",
    "\n",
    "# Fill NAs\n",
    "for col in ['age', 'price', 'duration_in_mins', 'price_per_min']:\n",
    "    df_slice['no_{}'.format(col)] = df_slice[col].apply(np.isnan)\n",
    "    df_slice[col] = df_slice[col].fillna(0)\n",
    "    \n",
    "cols_to_use += [x for x in df.columns if x[:3] == 'no_']\n",
    "\n",
    "# Dropped duplicates should kill identical ads\n",
    "# WE NEED TO GROUP ON PHONES\n",
    "# But I'm not going to think about that right now, so ads it is\n",
    "df_X = df_slice.ix[:, cols_to_use]\n",
    "y_series = df_slice['class'].astype(int)\n",
    "print(df_X.shape)\n",
    "print(y_series.shape)"
   ]
  },
  {
   "cell_type": "markdown",
   "metadata": {},
   "source": [
    "### Get Train / Test splits, folds, or whatever you want to call them\n",
    "Splitting *after* dropping a bunch of duplicates. We want the phone number to be the primary key."
   ]
  },
  {
   "cell_type": "code",
   "execution_count": null,
   "metadata": {
    "collapsed": true
   },
   "outputs": [],
   "source": [
    "splitter = ShuffleSplit(df_X.shape[0], 10)\n",
    "splits = [x for x in splitter]"
   ]
  },
  {
   "cell_type": "markdown",
   "metadata": {},
   "source": [
    "### Run model"
   ]
  },
  {
   "cell_type": "code",
   "execution_count": null,
   "metadata": {
    "collapsed": false,
    "scrolled": true
   },
   "outputs": [],
   "source": [
    "p = mp.Pool(10)\n",
    "lrs = p.starmap(lr_train_tester,\n",
    "                [(df_X.iloc[train_ix, :],\n",
    "                  y_series.iloc[train_ix],\n",
    "                  df_X.iloc[test_ix, :],\n",
    "                  y_series.iloc[test_ix])\n",
    "                 for train_ix, test_ix in splits])\n",
    "p.close()\n",
    "p.join()"
   ]
  },
  {
   "cell_type": "code",
   "execution_count": null,
   "metadata": {
    "collapsed": false
   },
   "outputs": [],
   "source": [
    "pd.Series([lr['lr_score'] for lr in lrs]).describe()"
   ]
  },
  {
   "cell_type": "code",
   "execution_count": null,
   "metadata": {
    "collapsed": false
   },
   "outputs": [],
   "source": [
    "pd.Series([lr['roc']['auc'] for lr in lrs]).describe()"
   ]
  },
  {
   "cell_type": "markdown",
   "metadata": {},
   "source": [
    "With these splits and features, our linear model _juuuuust_ a little better than the mean. Thanks, skewed data :("
   ]
  },
  {
   "cell_type": "code",
   "execution_count": null,
   "metadata": {
    "collapsed": false
   },
   "outputs": [],
   "source": [
    "from scipy import interp\n",
    "\n",
    "mean_tpr = 0.0\n",
    "mean_fpr = np.linspace(0, 1, 100)\n",
    "all_tpr = []\n",
    "\n",
    "for lr in lrs:\n",
    "    mean_tpr += interp(mean_fpr, lr['roc']['fpr'], lr['roc']['tpr'])\n",
    "    mean_tpr[0] = 0.0\n",
    "    \n",
    "mean_tpr /= len(lrs)\n",
    "mean_tpr[-1] = 1.0\n",
    "\n",
    "plt.plot(mean_fpr, mean_tpr,\n",
    "         label='Mean ROC (area = %0.2f)' % pd.Series([lr['roc']['auc'] for lr in lrs]).describe()['mean'], lw=2)\n",
    "\n",
    "plt.xlim([-0.05, 1.05])\n",
    "plt.ylim([-0.05, 1.05])\n",
    "plt.xlabel('False Positive Rate')\n",
    "plt.ylabel('True Positive Rate')\n",
    "plt.title('Mean ROC on 10-fold Shuffle Split Linear Regression')\n",
    "plt.legend(loc=\"lower right\")\n",
    "plt.show()"
   ]
  }
 ],
 "metadata": {
  "kernelspec": {
   "display_name": "Python 3",
   "language": "python",
   "name": "python3"
  },
  "language_info": {
   "codemirror_mode": {
    "name": "ipython",
    "version": 3
   },
   "file_extension": ".py",
   "mimetype": "text/x-python",
   "name": "python",
   "nbconvert_exporter": "python",
   "pygments_lexer": "ipython3",
   "version": "3.5.1"
  }
 },
 "nbformat": 4,
 "nbformat_minor": 0
}
