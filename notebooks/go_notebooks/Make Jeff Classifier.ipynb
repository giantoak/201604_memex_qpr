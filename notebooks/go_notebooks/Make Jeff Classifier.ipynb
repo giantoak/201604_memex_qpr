{
 "cells": [
  {
   "cell_type": "markdown",
   "metadata": {},
   "source": [
    "# Setup\n",
    "\n",
    "This notebook copies and build out Part III of `jeff_classifier.py` - that is, the section that trains and tests a classifier on the generated data.\n",
    "\n",
    "## Imports"
   ]
  },
  {
   "cell_type": "code",
   "execution_count": 1,
   "metadata": {
    "collapsed": false
   },
   "outputs": [],
   "source": [
    "from itertools import chain\n",
    "import html\n",
    "import ujson as json\n",
    "import multiprocessing as mp\n",
    "import pickle\n",
    "import numpy as np\n",
    "import pandas as pd\n",
    "import seaborn as sns\n",
    "\n",
    "from sklearn.ensemble import ExtraTreesClassifier\n",
    "from sklearn.ensemble import RandomForestClassifier\n",
    "from sklearn.cross_validation import StratifiedKFold\n",
    "from sklearn.metrics import roc_curve\n",
    "from sklearn.metrics import auc\n",
    "\n",
    "from helpers import disaggregated_df\n",
    "from helpers import aggregated_df\n",
    "from helpers import dummify_df\n",
    "\n",
    "from helpers import score_metrics\n",
    "from helpers import all_scoring_metrics\n",
    "\n",
    "from helpers import draw_roc\n",
    "\n",
    "%matplotlib inline\n",
    "sns.set(font='monospace')\n",
    "\n",
    "num_folds = 10\n",
    "eval_columns = ['f1',\n",
    "                'accuracy',\n",
    "                'true_negative_rate',\n",
    "                'true_positive_rate',\n",
    "                'roc_auc',\n",
    "                'roc:fpr',\n",
    "                'roc:tpr',\n",
    "                'roc:auc',\n",
    "                'roc:thresholds'\n",
    "               ]\n",
    "price_cols = ['duration_in_mins','price','price_per_min']"
   ]
  },
  {
   "cell_type": "code",
   "execution_count": 2,
   "metadata": {
    "collapsed": false
   },
   "outputs": [
    {
     "name": "stdout",
     "output_type": "stream",
     "text": [
      "(567, 103)\n",
      "False    508\n",
      "True      59\n",
      "Name: class, dtype: int64\n"
     ]
    }
   ],
   "source": [
    "df = pd.read_pickle('../../data/merged/data_to_use_by_phone_v4.pkl')\n",
    "print(df.shape)\n",
    "print(df['class'].value_counts())"
   ]
  },
  {
   "cell_type": "code",
   "execution_count": 3,
   "metadata": {
    "collapsed": true
   },
   "outputs": [],
   "source": [
    "id_cols = {'class', 'phone'}\n",
    "price_cols = {x for x in df.columns if x.find('price') > -1}\n",
    "duration_cols = {x for x in df.columns if x.find('duration') > -1}"
   ]
  },
  {
   "cell_type": "code",
   "execution_count": 4,
   "metadata": {
    "collapsed": false
   },
   "outputs": [],
   "source": [
    "etc = ExtraTreesClassifier(oob_score=True,\n",
    "                           bootstrap=True,\n",
    "                           random_state=2,\n",
    "                           n_estimators=100,\n",
    "                           n_jobs=-1,\n",
    "                           class_weight=\"balanced\")\n",
    "\n",
    "rf = RandomForestClassifier(oob_score=True,\n",
    "                            random_state=2,\n",
    "                            n_estimators=100,\n",
    "                            n_jobs=-1,\n",
    "                            class_weight=\"balanced\")"
   ]
  },
  {
   "cell_type": "markdown",
   "metadata": {},
   "source": [
    "## First Classification\n",
    "\n",
    "Use both Random Forests and Extra Trees to classify the data using all columns"
   ]
  },
  {
   "cell_type": "code",
   "execution_count": 5,
   "metadata": {
    "collapsed": false
   },
   "outputs": [
    {
     "name": "stdout",
     "output_type": "stream",
     "text": [
      "(567,)\n",
      "(567, 101)\n"
     ]
    }
   ],
   "source": [
    "y_series = df['class']\n",
    "X_df = df.loc[:, sorted(set(df.columns) - id_cols)]\n",
    "print(y_series.shape)\n",
    "print(X_df.shape)"
   ]
  },
  {
   "cell_type": "code",
   "execution_count": 6,
   "metadata": {
    "collapsed": false
   },
   "outputs": [
    {
     "name": "stdout",
     "output_type": "stream",
     "text": [
      "0.862091503267974\n"
     ]
    },
    {
     "data": {
      "text/html": [
       "<div>\n",
       "<table border=\"1\" class=\"dataframe\">\n",
       "  <thead>\n",
       "    <tr style=\"text-align: right;\">\n",
       "      <th></th>\n",
       "      <th>f1</th>\n",
       "      <th>accuracy</th>\n",
       "      <th>true_negative_rate</th>\n",
       "      <th>true_positive_rate</th>\n",
       "      <th>roc_auc</th>\n",
       "      <th>roc:fpr</th>\n",
       "      <th>roc:tpr</th>\n",
       "      <th>roc:auc</th>\n",
       "      <th>roc:thresholds</th>\n",
       "    </tr>\n",
       "  </thead>\n",
       "  <tbody>\n",
       "    <tr>\n",
       "      <th>0</th>\n",
       "      <td>0.222222</td>\n",
       "      <td>0.877193</td>\n",
       "      <td>0.960784</td>\n",
       "      <td>0.166667</td>\n",
       "      <td>0.776144</td>\n",
       "      <td>[0.0, 0.0392156862745, 1.0]</td>\n",
       "      <td>[0.0, 0.166666666667, 1.0]</td>\n",
       "      <td>0.563725</td>\n",
       "      <td>[2, 1, 0]</td>\n",
       "    </tr>\n",
       "    <tr>\n",
       "      <th>1</th>\n",
       "      <td>0.000000</td>\n",
       "      <td>0.824561</td>\n",
       "      <td>0.921569</td>\n",
       "      <td>0.000000</td>\n",
       "      <td>0.857843</td>\n",
       "      <td>[0.0, 0.078431372549, 1.0]</td>\n",
       "      <td>[0.0, 0.0, 1.0]</td>\n",
       "      <td>0.460784</td>\n",
       "      <td>[2, 1, 0]</td>\n",
       "    </tr>\n",
       "    <tr>\n",
       "      <th>2</th>\n",
       "      <td>0.000000</td>\n",
       "      <td>0.859649</td>\n",
       "      <td>0.960784</td>\n",
       "      <td>0.000000</td>\n",
       "      <td>0.542484</td>\n",
       "      <td>[0.0, 0.0392156862745, 1.0]</td>\n",
       "      <td>[0.0, 0.0, 1.0]</td>\n",
       "      <td>0.480392</td>\n",
       "      <td>[2, 1, 0]</td>\n",
       "    </tr>\n",
       "    <tr>\n",
       "      <th>3</th>\n",
       "      <td>0.166667</td>\n",
       "      <td>0.824561</td>\n",
       "      <td>0.901961</td>\n",
       "      <td>0.166667</td>\n",
       "      <td>0.888889</td>\n",
       "      <td>[0.0, 0.0980392156863, 1.0]</td>\n",
       "      <td>[0.0, 0.166666666667, 1.0]</td>\n",
       "      <td>0.534314</td>\n",
       "      <td>[2, 1, 0]</td>\n",
       "    </tr>\n",
       "    <tr>\n",
       "      <th>4</th>\n",
       "      <td>0.142857</td>\n",
       "      <td>0.789474</td>\n",
       "      <td>0.862745</td>\n",
       "      <td>0.166667</td>\n",
       "      <td>0.830065</td>\n",
       "      <td>[0.0, 0.137254901961, 1.0]</td>\n",
       "      <td>[0.0, 0.166666666667, 1.0]</td>\n",
       "      <td>0.514706</td>\n",
       "      <td>[2, 1, 0]</td>\n",
       "    </tr>\n",
       "    <tr>\n",
       "      <th>5</th>\n",
       "      <td>0.285714</td>\n",
       "      <td>0.912281</td>\n",
       "      <td>1.000000</td>\n",
       "      <td>0.166667</td>\n",
       "      <td>0.936275</td>\n",
       "      <td>[0.0, 1.0]</td>\n",
       "      <td>[0.166666666667, 1.0]</td>\n",
       "      <td>0.583333</td>\n",
       "      <td>[True, False]</td>\n",
       "    </tr>\n",
       "    <tr>\n",
       "      <th>6</th>\n",
       "      <td>0.000000</td>\n",
       "      <td>0.877193</td>\n",
       "      <td>0.980392</td>\n",
       "      <td>0.000000</td>\n",
       "      <td>0.901961</td>\n",
       "      <td>[0.0, 0.0196078431373, 1.0]</td>\n",
       "      <td>[0.0, 0.0, 1.0]</td>\n",
       "      <td>0.490196</td>\n",
       "      <td>[2, 1, 0]</td>\n",
       "    </tr>\n",
       "    <tr>\n",
       "      <th>7</th>\n",
       "      <td>0.285714</td>\n",
       "      <td>0.912281</td>\n",
       "      <td>1.000000</td>\n",
       "      <td>0.166667</td>\n",
       "      <td>0.887255</td>\n",
       "      <td>[0.0, 1.0]</td>\n",
       "      <td>[0.166666666667, 1.0]</td>\n",
       "      <td>0.583333</td>\n",
       "      <td>[True, False]</td>\n",
       "    </tr>\n",
       "    <tr>\n",
       "      <th>8</th>\n",
       "      <td>1.000000</td>\n",
       "      <td>1.000000</td>\n",
       "      <td>1.000000</td>\n",
       "      <td>1.000000</td>\n",
       "      <td>1.000000</td>\n",
       "      <td>[0.0, 1.0]</td>\n",
       "      <td>[1.0, 1.0]</td>\n",
       "      <td>1.000000</td>\n",
       "      <td>[True, False]</td>\n",
       "    </tr>\n",
       "    <tr>\n",
       "      <th>9</th>\n",
       "      <td>1.000000</td>\n",
       "      <td>1.000000</td>\n",
       "      <td>1.000000</td>\n",
       "      <td>1.000000</td>\n",
       "      <td>1.000000</td>\n",
       "      <td>[0.0, 1.0]</td>\n",
       "      <td>[1.0, 1.0]</td>\n",
       "      <td>1.000000</td>\n",
       "      <td>[True, False]</td>\n",
       "    </tr>\n",
       "  </tbody>\n",
       "</table>\n",
       "</div>"
      ],
      "text/plain": [
       "         f1  accuracy  true_negative_rate  true_positive_rate   roc_auc  \\\n",
       "0  0.222222  0.877193            0.960784            0.166667  0.776144   \n",
       "1  0.000000  0.824561            0.921569            0.000000  0.857843   \n",
       "2  0.000000  0.859649            0.960784            0.000000  0.542484   \n",
       "3  0.166667  0.824561            0.901961            0.166667  0.888889   \n",
       "4  0.142857  0.789474            0.862745            0.166667  0.830065   \n",
       "5  0.285714  0.912281            1.000000            0.166667  0.936275   \n",
       "6  0.000000  0.877193            0.980392            0.000000  0.901961   \n",
       "7  0.285714  0.912281            1.000000            0.166667  0.887255   \n",
       "8  1.000000  1.000000            1.000000            1.000000  1.000000   \n",
       "9  1.000000  1.000000            1.000000            1.000000  1.000000   \n",
       "\n",
       "                       roc:fpr                     roc:tpr   roc:auc  \\\n",
       "0  [0.0, 0.0392156862745, 1.0]  [0.0, 0.166666666667, 1.0]  0.563725   \n",
       "1   [0.0, 0.078431372549, 1.0]             [0.0, 0.0, 1.0]  0.460784   \n",
       "2  [0.0, 0.0392156862745, 1.0]             [0.0, 0.0, 1.0]  0.480392   \n",
       "3  [0.0, 0.0980392156863, 1.0]  [0.0, 0.166666666667, 1.0]  0.534314   \n",
       "4   [0.0, 0.137254901961, 1.0]  [0.0, 0.166666666667, 1.0]  0.514706   \n",
       "5                   [0.0, 1.0]       [0.166666666667, 1.0]  0.583333   \n",
       "6  [0.0, 0.0196078431373, 1.0]             [0.0, 0.0, 1.0]  0.490196   \n",
       "7                   [0.0, 1.0]       [0.166666666667, 1.0]  0.583333   \n",
       "8                   [0.0, 1.0]                  [1.0, 1.0]  1.000000   \n",
       "9                   [0.0, 1.0]                  [1.0, 1.0]  1.000000   \n",
       "\n",
       "  roc:thresholds  \n",
       "0      [2, 1, 0]  \n",
       "1      [2, 1, 0]  \n",
       "2      [2, 1, 0]  \n",
       "3      [2, 1, 0]  \n",
       "4      [2, 1, 0]  \n",
       "5  [True, False]  \n",
       "6      [2, 1, 0]  \n",
       "7  [True, False]  \n",
       "8  [True, False]  \n",
       "9  [True, False]  "
      ]
     },
     "execution_count": 6,
     "metadata": {},
     "output_type": "execute_result"
    }
   ],
   "source": [
    "etc_metrics = all_scoring_metrics(etc, X_df, y_series, StratifiedKFold(y_series, num_folds))\n",
    "print(np.mean(etc_metrics.roc_auc))\n",
    "etc_metrics.loc[:, eval_columns]"
   ]
  },
  {
   "cell_type": "code",
   "execution_count": 7,
   "metadata": {
    "collapsed": false
   },
   "outputs": [
    {
     "data": {
      "text/plain": [
       "images_count:75%          0.043235\n",
       "images_count:25%          0.040955\n",
       "images_count:50%          0.031925\n",
       "age:min                   0.031689\n",
       "flag_Juvenile             0.029135\n",
       "age:mean                  0.025070\n",
       "age:max                   0.024921\n",
       "n_ads                     0.024606\n",
       "age:count                 0.024344\n",
       "n_incall_and_outcall      0.022948\n",
       "n_distinct_locations      0.022501\n",
       "images_count:min          0.022198\n",
       "n_incall                  0.021526\n",
       "flag_Foreign Providers    0.021120\n",
       "images_count:mean         0.020814\n",
       "age:75%                   0.020812\n",
       "age:std                   0.020452\n",
       "age:50%                   0.020345\n",
       "age:25%                   0.019794\n",
       "location_tree_length      0.019124\n",
       "dtype: float64"
      ]
     },
     "execution_count": 7,
     "metadata": {},
     "output_type": "execute_result"
    }
   ],
   "source": [
    "etc_metrics.loc[:,  sorted(set(etc_metrics.columns) - set(eval_columns))].mean().sort_values(ascending=False).head(20)"
   ]
  },
  {
   "cell_type": "code",
   "execution_count": 8,
   "metadata": {
    "collapsed": false
   },
   "outputs": [
    {
     "data": {
      "image/png": "[encoded data removed]",
      "text/plain": [
       "<matplotlib.figure.Figure at 0x11bddd9e8>"
      ]
     },
     "metadata": {},
     "output_type": "display_data"
    }
   ],
   "source": [
    "draw_roc(etc_metrics, 'Extra Trees')"
   ]
  },
  {
   "cell_type": "code",
   "execution_count": 9,
   "metadata": {
    "collapsed": false
   },
   "outputs": [
    {
     "name": "stdout",
     "output_type": "stream",
     "text": [
      "0.8517973856209149\n"
     ]
    },
    {
     "data": {
      "text/html": [
       "<div>\n",
       "<table border=\"1\" class=\"dataframe\">\n",
       "  <thead>\n",
       "    <tr style=\"text-align: right;\">\n",
       "      <th></th>\n",
       "      <th>f1</th>\n",
       "      <th>accuracy</th>\n",
       "      <th>true_negative_rate</th>\n",
       "      <th>true_positive_rate</th>\n",
       "      <th>roc_auc</th>\n",
       "      <th>roc:fpr</th>\n",
       "      <th>roc:tpr</th>\n",
       "      <th>roc:auc</th>\n",
       "      <th>roc:thresholds</th>\n",
       "    </tr>\n",
       "  </thead>\n",
       "  <tbody>\n",
       "    <tr>\n",
       "      <th>0</th>\n",
       "      <td>0.166667</td>\n",
       "      <td>0.824561</td>\n",
       "      <td>0.901961</td>\n",
       "      <td>0.166667</td>\n",
       "      <td>0.815359</td>\n",
       "      <td>[0.0, 0.0980392156863, 1.0]</td>\n",
       "      <td>[0.0, 0.166666666667, 1.0]</td>\n",
       "      <td>0.534314</td>\n",
       "      <td>[2, 1, 0]</td>\n",
       "    </tr>\n",
       "    <tr>\n",
       "      <th>1</th>\n",
       "      <td>0.000000</td>\n",
       "      <td>0.842105</td>\n",
       "      <td>0.941176</td>\n",
       "      <td>0.000000</td>\n",
       "      <td>0.753268</td>\n",
       "      <td>[0.0, 0.0588235294118, 1.0]</td>\n",
       "      <td>[0.0, 0.0, 1.0]</td>\n",
       "      <td>0.470588</td>\n",
       "      <td>[2, 1, 0]</td>\n",
       "    </tr>\n",
       "    <tr>\n",
       "      <th>2</th>\n",
       "      <td>0.000000</td>\n",
       "      <td>0.859649</td>\n",
       "      <td>0.960784</td>\n",
       "      <td>0.000000</td>\n",
       "      <td>0.517974</td>\n",
       "      <td>[0.0, 0.0392156862745, 1.0]</td>\n",
       "      <td>[0.0, 0.0, 1.0]</td>\n",
       "      <td>0.480392</td>\n",
       "      <td>[2, 1, 0]</td>\n",
       "    </tr>\n",
       "    <tr>\n",
       "      <th>3</th>\n",
       "      <td>0.153846</td>\n",
       "      <td>0.807018</td>\n",
       "      <td>0.882353</td>\n",
       "      <td>0.166667</td>\n",
       "      <td>0.892157</td>\n",
       "      <td>[0.0, 0.117647058824, 1.0]</td>\n",
       "      <td>[0.0, 0.166666666667, 1.0]</td>\n",
       "      <td>0.524510</td>\n",
       "      <td>[2, 1, 0]</td>\n",
       "    </tr>\n",
       "    <tr>\n",
       "      <th>4</th>\n",
       "      <td>0.000000</td>\n",
       "      <td>0.754386</td>\n",
       "      <td>0.843137</td>\n",
       "      <td>0.000000</td>\n",
       "      <td>0.833333</td>\n",
       "      <td>[0.0, 0.156862745098, 1.0]</td>\n",
       "      <td>[0.0, 0.0, 1.0]</td>\n",
       "      <td>0.421569</td>\n",
       "      <td>[2, 1, 0]</td>\n",
       "    </tr>\n",
       "    <tr>\n",
       "      <th>5</th>\n",
       "      <td>0.285714</td>\n",
       "      <td>0.912281</td>\n",
       "      <td>1.000000</td>\n",
       "      <td>0.166667</td>\n",
       "      <td>0.965686</td>\n",
       "      <td>[0.0, 1.0]</td>\n",
       "      <td>[0.166666666667, 1.0]</td>\n",
       "      <td>0.583333</td>\n",
       "      <td>[True, False]</td>\n",
       "    </tr>\n",
       "    <tr>\n",
       "      <th>6</th>\n",
       "      <td>0.250000</td>\n",
       "      <td>0.894737</td>\n",
       "      <td>0.980392</td>\n",
       "      <td>0.166667</td>\n",
       "      <td>0.852941</td>\n",
       "      <td>[0.0, 0.0196078431373, 1.0]</td>\n",
       "      <td>[0.0, 0.166666666667, 1.0]</td>\n",
       "      <td>0.573529</td>\n",
       "      <td>[2, 1, 0]</td>\n",
       "    </tr>\n",
       "    <tr>\n",
       "      <th>7</th>\n",
       "      <td>0.250000</td>\n",
       "      <td>0.894737</td>\n",
       "      <td>0.980392</td>\n",
       "      <td>0.166667</td>\n",
       "      <td>0.887255</td>\n",
       "      <td>[0.0, 0.0196078431373, 1.0]</td>\n",
       "      <td>[0.0, 0.166666666667, 1.0]</td>\n",
       "      <td>0.573529</td>\n",
       "      <td>[2, 1, 0]</td>\n",
       "    </tr>\n",
       "    <tr>\n",
       "      <th>8</th>\n",
       "      <td>0.923077</td>\n",
       "      <td>0.982143</td>\n",
       "      <td>0.980000</td>\n",
       "      <td>1.000000</td>\n",
       "      <td>1.000000</td>\n",
       "      <td>[0.0, 0.02, 1.0]</td>\n",
       "      <td>[0.0, 1.0, 1.0]</td>\n",
       "      <td>0.990000</td>\n",
       "      <td>[2, 1, 0]</td>\n",
       "    </tr>\n",
       "    <tr>\n",
       "      <th>9</th>\n",
       "      <td>1.000000</td>\n",
       "      <td>1.000000</td>\n",
       "      <td>1.000000</td>\n",
       "      <td>1.000000</td>\n",
       "      <td>1.000000</td>\n",
       "      <td>[0.0, 1.0]</td>\n",
       "      <td>[1.0, 1.0]</td>\n",
       "      <td>1.000000</td>\n",
       "      <td>[True, False]</td>\n",
       "    </tr>\n",
       "  </tbody>\n",
       "</table>\n",
       "</div>"
      ],
      "text/plain": [
       "         f1  accuracy  true_negative_rate  true_positive_rate   roc_auc  \\\n",
       "0  0.166667  0.824561            0.901961            0.166667  0.815359   \n",
       "1  0.000000  0.842105            0.941176            0.000000  0.753268   \n",
       "2  0.000000  0.859649            0.960784            0.000000  0.517974   \n",
       "3  0.153846  0.807018            0.882353            0.166667  0.892157   \n",
       "4  0.000000  0.754386            0.843137            0.000000  0.833333   \n",
       "5  0.285714  0.912281            1.000000            0.166667  0.965686   \n",
       "6  0.250000  0.894737            0.980392            0.166667  0.852941   \n",
       "7  0.250000  0.894737            0.980392            0.166667  0.887255   \n",
       "8  0.923077  0.982143            0.980000            1.000000  1.000000   \n",
       "9  1.000000  1.000000            1.000000            1.000000  1.000000   \n",
       "\n",
       "                       roc:fpr                     roc:tpr   roc:auc  \\\n",
       "0  [0.0, 0.0980392156863, 1.0]  [0.0, 0.166666666667, 1.0]  0.534314   \n",
       "1  [0.0, 0.0588235294118, 1.0]             [0.0, 0.0, 1.0]  0.470588   \n",
       "2  [0.0, 0.0392156862745, 1.0]             [0.0, 0.0, 1.0]  0.480392   \n",
       "3   [0.0, 0.117647058824, 1.0]  [0.0, 0.166666666667, 1.0]  0.524510   \n",
       "4   [0.0, 0.156862745098, 1.0]             [0.0, 0.0, 1.0]  0.421569   \n",
       "5                   [0.0, 1.0]       [0.166666666667, 1.0]  0.583333   \n",
       "6  [0.0, 0.0196078431373, 1.0]  [0.0, 0.166666666667, 1.0]  0.573529   \n",
       "7  [0.0, 0.0196078431373, 1.0]  [0.0, 0.166666666667, 1.0]  0.573529   \n",
       "8             [0.0, 0.02, 1.0]             [0.0, 1.0, 1.0]  0.990000   \n",
       "9                   [0.0, 1.0]                  [1.0, 1.0]  1.000000   \n",
       "\n",
       "  roc:thresholds  \n",
       "0      [2, 1, 0]  \n",
       "1      [2, 1, 0]  \n",
       "2      [2, 1, 0]  \n",
       "3      [2, 1, 0]  \n",
       "4      [2, 1, 0]  \n",
       "5  [True, False]  \n",
       "6      [2, 1, 0]  \n",
       "7      [2, 1, 0]  \n",
       "8      [2, 1, 0]  \n",
       "9  [True, False]  "
      ]
     },
     "execution_count": 9,
     "metadata": {},
     "output_type": "execute_result"
    }
   ],
   "source": [
    "rf_metrics = all_scoring_metrics(rf, X_df, y_series, StratifiedKFold(y_series, num_folds))\n",
    "print(np.mean(rf_metrics.roc_auc))\n",
    "rf_metrics.loc[:, eval_columns]"
   ]
  },
  {
   "cell_type": "code",
   "execution_count": 10,
   "metadata": {
    "collapsed": false
   },
   "outputs": [
    {
     "data": {
      "text/plain": [
       "age:min                             0.046059\n",
       "age:count                           0.044118\n",
       "age:mean                            0.039464\n",
       "similar_images_count:75%            0.039012\n",
       "images_count:75%                    0.031607\n",
       "exp_ads_from_simimages_count:75%    0.029192\n",
       "age:std                             0.029164\n",
       "flag_Juvenile                       0.028808\n",
       "images_count:mean                   0.025779\n",
       "n_ads                               0.025202\n",
       "age:max                             0.025019\n",
       "similar_images_count:25%            0.024877\n",
       "images_count:max                    0.022344\n",
       "exp_ads_from_simimages_count:50%    0.022234\n",
       "age:50%                             0.021938\n",
       "similar_images_count:count          0.021391\n",
       "exp_ads_from_simimages_count:25%    0.020995\n",
       "age:25%                             0.019817\n",
       "similar_images_count:50%            0.019328\n",
       "images_count:count                  0.019056\n",
       "dtype: float64"
      ]
     },
     "execution_count": 10,
     "metadata": {},
     "output_type": "execute_result"
    }
   ],
   "source": [
    "rf_metrics.loc[:,  sorted(set(rf_metrics.columns) - set(eval_columns))].mean().sort_values(ascending=False).head(20)"
   ]
  },
  {
   "cell_type": "code",
   "execution_count": 11,
   "metadata": {
    "collapsed": false
   },
   "outputs": [
    {
     "data": {
      "image/png": "[encoded data removed]",
      "text/plain": [
       "<matplotlib.figure.Figure at 0x11c8cf5f8>"
      ]
     },
     "metadata": {},
     "output_type": "display_data"
    }
   ],
   "source": [
    "draw_roc(rf_metrics, 'Random Forest')"
   ]
  },
  {
   "cell_type": "markdown",
   "metadata": {},
   "source": [
    "## Second Classification\n",
    "The same as above, but exclude price variables"
   ]
  },
  {
   "cell_type": "code",
   "execution_count": 12,
   "metadata": {
    "collapsed": false
   },
   "outputs": [
    {
     "name": "stdout",
     "output_type": "stream",
     "text": [
      "(567,)\n",
      "(567, 77)\n"
     ]
    }
   ],
   "source": [
    "y_series = df['class']\n",
    "X_df = df.loc[:, sorted(set(df.columns) - id_cols - price_cols - duration_cols)]\n",
    "print(y_series.shape)\n",
    "print(X_df.shape)"
   ]
  },
  {
   "cell_type": "code",
   "execution_count": 13,
   "metadata": {
    "collapsed": false
   },
   "outputs": [
    {
     "name": "stdout",
     "output_type": "stream",
     "text": [
      "0.8764705882352942\n"
     ]
    },
    {
     "data": {
      "text/html": [
       "<div>\n",
       "<table border=\"1\" class=\"dataframe\">\n",
       "  <thead>\n",
       "    <tr style=\"text-align: right;\">\n",
       "      <th></th>\n",
       "      <th>f1</th>\n",
       "      <th>accuracy</th>\n",
       "      <th>true_negative_rate</th>\n",
       "      <th>true_positive_rate</th>\n",
       "      <th>roc_auc</th>\n",
       "      <th>roc:fpr</th>\n",
       "      <th>roc:tpr</th>\n",
       "      <th>roc:auc</th>\n",
       "      <th>roc:thresholds</th>\n",
       "    </tr>\n",
       "  </thead>\n",
       "  <tbody>\n",
       "    <tr>\n",
       "      <th>0</th>\n",
       "      <td>0.222222</td>\n",
       "      <td>0.877193</td>\n",
       "      <td>0.960784</td>\n",
       "      <td>0.166667</td>\n",
       "      <td>0.831699</td>\n",
       "      <td>[0.0, 0.0392156862745, 1.0]</td>\n",
       "      <td>[0.0, 0.166666666667, 1.0]</td>\n",
       "      <td>0.563725</td>\n",
       "      <td>[2, 1, 0]</td>\n",
       "    </tr>\n",
       "    <tr>\n",
       "      <th>1</th>\n",
       "      <td>0.000000</td>\n",
       "      <td>0.842105</td>\n",
       "      <td>0.941176</td>\n",
       "      <td>0.000000</td>\n",
       "      <td>0.848039</td>\n",
       "      <td>[0.0, 0.0588235294118, 1.0]</td>\n",
       "      <td>[0.0, 0.0, 1.0]</td>\n",
       "      <td>0.470588</td>\n",
       "      <td>[2, 1, 0]</td>\n",
       "    </tr>\n",
       "    <tr>\n",
       "      <th>2</th>\n",
       "      <td>0.000000</td>\n",
       "      <td>0.859649</td>\n",
       "      <td>0.960784</td>\n",
       "      <td>0.000000</td>\n",
       "      <td>0.606209</td>\n",
       "      <td>[0.0, 0.0392156862745, 1.0]</td>\n",
       "      <td>[0.0, 0.0, 1.0]</td>\n",
       "      <td>0.480392</td>\n",
       "      <td>[2, 1, 0]</td>\n",
       "    </tr>\n",
       "    <tr>\n",
       "      <th>3</th>\n",
       "      <td>0.153846</td>\n",
       "      <td>0.807018</td>\n",
       "      <td>0.882353</td>\n",
       "      <td>0.166667</td>\n",
       "      <td>0.888889</td>\n",
       "      <td>[0.0, 0.117647058824, 1.0]</td>\n",
       "      <td>[0.0, 0.166666666667, 1.0]</td>\n",
       "      <td>0.524510</td>\n",
       "      <td>[2, 1, 0]</td>\n",
       "    </tr>\n",
       "    <tr>\n",
       "      <th>4</th>\n",
       "      <td>0.142857</td>\n",
       "      <td>0.789474</td>\n",
       "      <td>0.862745</td>\n",
       "      <td>0.166667</td>\n",
       "      <td>0.823529</td>\n",
       "      <td>[0.0, 0.137254901961, 1.0]</td>\n",
       "      <td>[0.0, 0.166666666667, 1.0]</td>\n",
       "      <td>0.514706</td>\n",
       "      <td>[2, 1, 0]</td>\n",
       "    </tr>\n",
       "    <tr>\n",
       "      <th>5</th>\n",
       "      <td>0.285714</td>\n",
       "      <td>0.912281</td>\n",
       "      <td>1.000000</td>\n",
       "      <td>0.166667</td>\n",
       "      <td>0.954248</td>\n",
       "      <td>[0.0, 1.0]</td>\n",
       "      <td>[0.166666666667, 1.0]</td>\n",
       "      <td>0.583333</td>\n",
       "      <td>[True, False]</td>\n",
       "    </tr>\n",
       "    <tr>\n",
       "      <th>6</th>\n",
       "      <td>0.250000</td>\n",
       "      <td>0.894737</td>\n",
       "      <td>0.980392</td>\n",
       "      <td>0.166667</td>\n",
       "      <td>0.933007</td>\n",
       "      <td>[0.0, 0.0196078431373, 1.0]</td>\n",
       "      <td>[0.0, 0.166666666667, 1.0]</td>\n",
       "      <td>0.573529</td>\n",
       "      <td>[2, 1, 0]</td>\n",
       "    </tr>\n",
       "    <tr>\n",
       "      <th>7</th>\n",
       "      <td>0.285714</td>\n",
       "      <td>0.912281</td>\n",
       "      <td>1.000000</td>\n",
       "      <td>0.166667</td>\n",
       "      <td>0.879085</td>\n",
       "      <td>[0.0, 1.0]</td>\n",
       "      <td>[0.166666666667, 1.0]</td>\n",
       "      <td>0.583333</td>\n",
       "      <td>[True, False]</td>\n",
       "    </tr>\n",
       "    <tr>\n",
       "      <th>8</th>\n",
       "      <td>1.000000</td>\n",
       "      <td>1.000000</td>\n",
       "      <td>1.000000</td>\n",
       "      <td>1.000000</td>\n",
       "      <td>1.000000</td>\n",
       "      <td>[0.0, 1.0]</td>\n",
       "      <td>[1.0, 1.0]</td>\n",
       "      <td>1.000000</td>\n",
       "      <td>[True, False]</td>\n",
       "    </tr>\n",
       "    <tr>\n",
       "      <th>9</th>\n",
       "      <td>1.000000</td>\n",
       "      <td>1.000000</td>\n",
       "      <td>1.000000</td>\n",
       "      <td>1.000000</td>\n",
       "      <td>1.000000</td>\n",
       "      <td>[0.0, 1.0]</td>\n",
       "      <td>[1.0, 1.0]</td>\n",
       "      <td>1.000000</td>\n",
       "      <td>[True, False]</td>\n",
       "    </tr>\n",
       "  </tbody>\n",
       "</table>\n",
       "</div>"
      ],
      "text/plain": [
       "         f1  accuracy  true_negative_rate  true_positive_rate   roc_auc  \\\n",
       "0  0.222222  0.877193            0.960784            0.166667  0.831699   \n",
       "1  0.000000  0.842105            0.941176            0.000000  0.848039   \n",
       "2  0.000000  0.859649            0.960784            0.000000  0.606209   \n",
       "3  0.153846  0.807018            0.882353            0.166667  0.888889   \n",
       "4  0.142857  0.789474            0.862745            0.166667  0.823529   \n",
       "5  0.285714  0.912281            1.000000            0.166667  0.954248   \n",
       "6  0.250000  0.894737            0.980392            0.166667  0.933007   \n",
       "7  0.285714  0.912281            1.000000            0.166667  0.879085   \n",
       "8  1.000000  1.000000            1.000000            1.000000  1.000000   \n",
       "9  1.000000  1.000000            1.000000            1.000000  1.000000   \n",
       "\n",
       "                       roc:fpr                     roc:tpr   roc:auc  \\\n",
       "0  [0.0, 0.0392156862745, 1.0]  [0.0, 0.166666666667, 1.0]  0.563725   \n",
       "1  [0.0, 0.0588235294118, 1.0]             [0.0, 0.0, 1.0]  0.470588   \n",
       "2  [0.0, 0.0392156862745, 1.0]             [0.0, 0.0, 1.0]  0.480392   \n",
       "3   [0.0, 0.117647058824, 1.0]  [0.0, 0.166666666667, 1.0]  0.524510   \n",
       "4   [0.0, 0.137254901961, 1.0]  [0.0, 0.166666666667, 1.0]  0.514706   \n",
       "5                   [0.0, 1.0]       [0.166666666667, 1.0]  0.583333   \n",
       "6  [0.0, 0.0196078431373, 1.0]  [0.0, 0.166666666667, 1.0]  0.573529   \n",
       "7                   [0.0, 1.0]       [0.166666666667, 1.0]  0.583333   \n",
       "8                   [0.0, 1.0]                  [1.0, 1.0]  1.000000   \n",
       "9                   [0.0, 1.0]                  [1.0, 1.0]  1.000000   \n",
       "\n",
       "  roc:thresholds  \n",
       "0      [2, 1, 0]  \n",
       "1      [2, 1, 0]  \n",
       "2      [2, 1, 0]  \n",
       "3      [2, 1, 0]  \n",
       "4      [2, 1, 0]  \n",
       "5  [True, False]  \n",
       "6      [2, 1, 0]  \n",
       "7  [True, False]  \n",
       "8  [True, False]  \n",
       "9  [True, False]  "
      ]
     },
     "execution_count": 13,
     "metadata": {},
     "output_type": "execute_result"
    }
   ],
   "source": [
    "etc_metrics = all_scoring_metrics(etc, X_df, y_series, StratifiedKFold(y_series, num_folds))\n",
    "print(np.mean(etc_metrics.roc_auc))\n",
    "etc_metrics.loc[:, eval_columns]"
   ]
  },
  {
   "cell_type": "code",
   "execution_count": 14,
   "metadata": {
    "collapsed": false
   },
   "outputs": [
    {
     "data": {
      "text/plain": [
       "images_count:25%          0.038113\n",
       "images_count:75%          0.037506\n",
       "images_count:50%          0.034573\n",
       "flag_Juvenile             0.033525\n",
       "n_incall                  0.031228\n",
       "age:min                   0.029387\n",
       "n_ads                     0.028312\n",
       "age:max                   0.028137\n",
       "age:count                 0.027361\n",
       "n_incall_and_outcall      0.026062\n",
       "age:mean                  0.024112\n",
       "location_tree_length      0.023603\n",
       "images_count:min          0.022700\n",
       "n_distinct_locations      0.021889\n",
       "n_cooccurring_phones      0.021886\n",
       "images_count:mean         0.021660\n",
       "flag_Foreign Providers    0.021613\n",
       "age:75%                   0.021558\n",
       "images_count:max          0.021446\n",
       "age:25%                   0.021083\n",
       "dtype: float64"
      ]
     },
     "execution_count": 14,
     "metadata": {},
     "output_type": "execute_result"
    }
   ],
   "source": [
    "etc_metrics.loc[:,  sorted(set(etc_metrics.columns) - set(eval_columns))].mean().sort_values(ascending=False).head(20)"
   ]
  },
  {
   "cell_type": "code",
   "execution_count": 15,
   "metadata": {
    "collapsed": false
   },
   "outputs": [
    {
     "data": {
      "image/png": "[encoded data removed]",
      "text/plain": [
       "<matplotlib.figure.Figure at 0x11bde4358>"
      ]
     },
     "metadata": {},
     "output_type": "display_data"
    }
   ],
   "source": [
    "draw_roc(etc_metrics, 'Extra Trees')"
   ]
  },
  {
   "cell_type": "code",
   "execution_count": 16,
   "metadata": {
    "collapsed": false
   },
   "outputs": [
    {
     "name": "stdout",
     "output_type": "stream",
     "text": [
      "0.8629084967320264\n"
     ]
    },
    {
     "data": {
      "text/html": [
       "<div>\n",
       "<table border=\"1\" class=\"dataframe\">\n",
       "  <thead>\n",
       "    <tr style=\"text-align: right;\">\n",
       "      <th></th>\n",
       "      <th>f1</th>\n",
       "      <th>accuracy</th>\n",
       "      <th>true_negative_rate</th>\n",
       "      <th>true_positive_rate</th>\n",
       "      <th>roc_auc</th>\n",
       "      <th>roc:fpr</th>\n",
       "      <th>roc:tpr</th>\n",
       "      <th>roc:auc</th>\n",
       "      <th>roc:thresholds</th>\n",
       "    </tr>\n",
       "  </thead>\n",
       "  <tbody>\n",
       "    <tr>\n",
       "      <th>0</th>\n",
       "      <td>0.181818</td>\n",
       "      <td>0.842105</td>\n",
       "      <td>0.921569</td>\n",
       "      <td>0.166667</td>\n",
       "      <td>0.833333</td>\n",
       "      <td>[0.0, 0.078431372549, 1.0]</td>\n",
       "      <td>[0.0, 0.166666666667, 1.0]</td>\n",
       "      <td>0.544118</td>\n",
       "      <td>[2, 1, 0]</td>\n",
       "    </tr>\n",
       "    <tr>\n",
       "      <th>1</th>\n",
       "      <td>0.000000</td>\n",
       "      <td>0.842105</td>\n",
       "      <td>0.941176</td>\n",
       "      <td>0.000000</td>\n",
       "      <td>0.776144</td>\n",
       "      <td>[0.0, 0.0588235294118, 1.0]</td>\n",
       "      <td>[0.0, 0.0, 1.0]</td>\n",
       "      <td>0.470588</td>\n",
       "      <td>[2, 1, 0]</td>\n",
       "    </tr>\n",
       "    <tr>\n",
       "      <th>2</th>\n",
       "      <td>0.000000</td>\n",
       "      <td>0.859649</td>\n",
       "      <td>0.960784</td>\n",
       "      <td>0.000000</td>\n",
       "      <td>0.545752</td>\n",
       "      <td>[0.0, 0.0392156862745, 1.0]</td>\n",
       "      <td>[0.0, 0.0, 1.0]</td>\n",
       "      <td>0.480392</td>\n",
       "      <td>[2, 1, 0]</td>\n",
       "    </tr>\n",
       "    <tr>\n",
       "      <th>3</th>\n",
       "      <td>0.285714</td>\n",
       "      <td>0.824561</td>\n",
       "      <td>0.882353</td>\n",
       "      <td>0.333333</td>\n",
       "      <td>0.885621</td>\n",
       "      <td>[0.0, 0.117647058824, 1.0]</td>\n",
       "      <td>[0.0, 0.333333333333, 1.0]</td>\n",
       "      <td>0.607843</td>\n",
       "      <td>[2, 1, 0]</td>\n",
       "    </tr>\n",
       "    <tr>\n",
       "      <th>4</th>\n",
       "      <td>0.000000</td>\n",
       "      <td>0.754386</td>\n",
       "      <td>0.843137</td>\n",
       "      <td>0.000000</td>\n",
       "      <td>0.831699</td>\n",
       "      <td>[0.0, 0.156862745098, 1.0]</td>\n",
       "      <td>[0.0, 0.0, 1.0]</td>\n",
       "      <td>0.421569</td>\n",
       "      <td>[2, 1, 0]</td>\n",
       "    </tr>\n",
       "    <tr>\n",
       "      <th>5</th>\n",
       "      <td>0.000000</td>\n",
       "      <td>0.894737</td>\n",
       "      <td>1.000000</td>\n",
       "      <td>0.000000</td>\n",
       "      <td>0.934641</td>\n",
       "      <td>[0.0, 1.0]</td>\n",
       "      <td>[0.0, 1.0]</td>\n",
       "      <td>0.500000</td>\n",
       "      <td>[1, 0]</td>\n",
       "    </tr>\n",
       "    <tr>\n",
       "      <th>6</th>\n",
       "      <td>0.250000</td>\n",
       "      <td>0.894737</td>\n",
       "      <td>0.980392</td>\n",
       "      <td>0.166667</td>\n",
       "      <td>0.895425</td>\n",
       "      <td>[0.0, 0.0196078431373, 1.0]</td>\n",
       "      <td>[0.0, 0.166666666667, 1.0]</td>\n",
       "      <td>0.573529</td>\n",
       "      <td>[2, 1, 0]</td>\n",
       "    </tr>\n",
       "    <tr>\n",
       "      <th>7</th>\n",
       "      <td>0.285714</td>\n",
       "      <td>0.912281</td>\n",
       "      <td>1.000000</td>\n",
       "      <td>0.166667</td>\n",
       "      <td>0.926471</td>\n",
       "      <td>[0.0, 1.0]</td>\n",
       "      <td>[0.166666666667, 1.0]</td>\n",
       "      <td>0.583333</td>\n",
       "      <td>[True, False]</td>\n",
       "    </tr>\n",
       "    <tr>\n",
       "      <th>8</th>\n",
       "      <td>1.000000</td>\n",
       "      <td>1.000000</td>\n",
       "      <td>1.000000</td>\n",
       "      <td>1.000000</td>\n",
       "      <td>1.000000</td>\n",
       "      <td>[0.0, 1.0]</td>\n",
       "      <td>[1.0, 1.0]</td>\n",
       "      <td>1.000000</td>\n",
       "      <td>[True, False]</td>\n",
       "    </tr>\n",
       "    <tr>\n",
       "      <th>9</th>\n",
       "      <td>1.000000</td>\n",
       "      <td>1.000000</td>\n",
       "      <td>1.000000</td>\n",
       "      <td>1.000000</td>\n",
       "      <td>1.000000</td>\n",
       "      <td>[0.0, 1.0]</td>\n",
       "      <td>[1.0, 1.0]</td>\n",
       "      <td>1.000000</td>\n",
       "      <td>[True, False]</td>\n",
       "    </tr>\n",
       "  </tbody>\n",
       "</table>\n",
       "</div>"
      ],
      "text/plain": [
       "         f1  accuracy  true_negative_rate  true_positive_rate   roc_auc  \\\n",
       "0  0.181818  0.842105            0.921569            0.166667  0.833333   \n",
       "1  0.000000  0.842105            0.941176            0.000000  0.776144   \n",
       "2  0.000000  0.859649            0.960784            0.000000  0.545752   \n",
       "3  0.285714  0.824561            0.882353            0.333333  0.885621   \n",
       "4  0.000000  0.754386            0.843137            0.000000  0.831699   \n",
       "5  0.000000  0.894737            1.000000            0.000000  0.934641   \n",
       "6  0.250000  0.894737            0.980392            0.166667  0.895425   \n",
       "7  0.285714  0.912281            1.000000            0.166667  0.926471   \n",
       "8  1.000000  1.000000            1.000000            1.000000  1.000000   \n",
       "9  1.000000  1.000000            1.000000            1.000000  1.000000   \n",
       "\n",
       "                       roc:fpr                     roc:tpr   roc:auc  \\\n",
       "0   [0.0, 0.078431372549, 1.0]  [0.0, 0.166666666667, 1.0]  0.544118   \n",
       "1  [0.0, 0.0588235294118, 1.0]             [0.0, 0.0, 1.0]  0.470588   \n",
       "2  [0.0, 0.0392156862745, 1.0]             [0.0, 0.0, 1.0]  0.480392   \n",
       "3   [0.0, 0.117647058824, 1.0]  [0.0, 0.333333333333, 1.0]  0.607843   \n",
       "4   [0.0, 0.156862745098, 1.0]             [0.0, 0.0, 1.0]  0.421569   \n",
       "5                   [0.0, 1.0]                  [0.0, 1.0]  0.500000   \n",
       "6  [0.0, 0.0196078431373, 1.0]  [0.0, 0.166666666667, 1.0]  0.573529   \n",
       "7                   [0.0, 1.0]       [0.166666666667, 1.0]  0.583333   \n",
       "8                   [0.0, 1.0]                  [1.0, 1.0]  1.000000   \n",
       "9                   [0.0, 1.0]                  [1.0, 1.0]  1.000000   \n",
       "\n",
       "  roc:thresholds  \n",
       "0      [2, 1, 0]  \n",
       "1      [2, 1, 0]  \n",
       "2      [2, 1, 0]  \n",
       "3      [2, 1, 0]  \n",
       "4      [2, 1, 0]  \n",
       "5         [1, 0]  \n",
       "6      [2, 1, 0]  \n",
       "7  [True, False]  \n",
       "8  [True, False]  \n",
       "9  [True, False]  "
      ]
     },
     "execution_count": 16,
     "metadata": {},
     "output_type": "execute_result"
    }
   ],
   "source": [
    "rf_metrics = all_scoring_metrics(rf, X_df, y_series, StratifiedKFold(y_series, num_folds))\n",
    "print(np.mean(rf_metrics.roc_auc))\n",
    "rf_metrics.loc[:, eval_columns]"
   ]
  },
  {
   "cell_type": "code",
   "execution_count": 17,
   "metadata": {
    "collapsed": false
   },
   "outputs": [
    {
     "data": {
      "text/plain": [
       "age:min                             0.070174\n",
       "age:count                           0.046596\n",
       "similar_images_count:25%            0.037007\n",
       "age:mean                            0.033906\n",
       "similar_images_count:50%            0.032063\n",
       "exp_ads_from_simimages_count:50%    0.028150\n",
       "n_ads                               0.026715\n",
       "age:std                             0.026297\n",
       "similar_images_count:75%            0.026280\n",
       "age:max                             0.025491\n",
       "flag_Juvenile                       0.025414\n",
       "images_count:50%                    0.025269\n",
       "images_count:mean                   0.025008\n",
       "exp_ads_from_simimages_count:25%    0.022614\n",
       "images_count:max                    0.022430\n",
       "images_count:75%                    0.019835\n",
       "age:50%                             0.019779\n",
       "images_count:count                  0.019257\n",
       "similar_images_count:count          0.019256\n",
       "location_tree_length                0.019221\n",
       "dtype: float64"
      ]
     },
     "execution_count": 17,
     "metadata": {},
     "output_type": "execute_result"
    }
   ],
   "source": [
    "rf_metrics.loc[:,  sorted(set(rf_metrics.columns) - set(eval_columns))].mean().sort_values(ascending=False).head(20)"
   ]
  },
  {
   "cell_type": "code",
   "execution_count": 18,
   "metadata": {
    "collapsed": false
   },
   "outputs": [
    {
     "data": {
      "image/png": "[encoded data removed]",
      "text/plain": [
       "<matplotlib.figure.Figure at 0x1195fc8d0>"
      ]
     },
     "metadata": {},
     "output_type": "display_data"
    }
   ],
   "source": [
    "draw_roc(etc_metrics, 'Random Forest')"
   ]
  }
 ],
 "metadata": {
  "kernelspec": {
   "display_name": "Python 3",
   "language": "python",
   "name": "python3"
  },
  "language_info": {
   "codemirror_mode": {
    "name": "ipython",
    "version": 3
   },
   "file_extension": ".py",
   "mimetype": "text/x-python",
   "name": "python",
   "nbconvert_exporter": "python",
   "pygments_lexer": "ipython3",
   "version": "3.5.1"
  },
  "widgets": {
   "state": {},
   "version": "1.1.1"
  }
 },
 "nbformat": 4,
 "nbformat_minor": 0
}
