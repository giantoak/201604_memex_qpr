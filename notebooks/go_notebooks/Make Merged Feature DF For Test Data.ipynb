{
 "cells": [
  {
   "cell_type": "markdown",
   "metadata": {},
   "source": [
    "# This Notebook\n",
    "# ... Is Super Junky. As long as this note is here, maybe assume\n",
    "# you can't run it.\n",
    "\n",
    "In here, everything on which we're planning to train gets merged together and dumped to a CSV and a pickle for quick reference.\n",
    "\n",
    "This pickle is **keyed on dd_id**. But it's **phone numbers** that are relevant for the classifier.\n",
    "\n",
    "\n",
    "------\n",
    "\n",
    "# Setup\n",
    "## Imports"
   ]
  },
  {
   "cell_type": "code",
   "execution_count": 1,
   "metadata": {
    "collapsed": false
   },
   "outputs": [],
   "source": [
    "import ujson as json\n",
    "import numpy as np\n",
    "import pandas as pd\n",
    "import seaborn as sns\n",
    "from sklearn.linear_model import LinearRegression\n",
    "from itertools import chain\n",
    "from tqdm import tqdm, tqdm_pandas\n",
    "from sqlalchemy import create_engine\n",
    "%matplotlib inline\n",
    "\n",
    "from helpers import phone_str_to_dd_format\n",
    "from helpers import disaggregated_df\n",
    "from helpers import aggregated_df\n",
    "from helpers import dummify_df\n",
    "from helpers import df_of_tables_for_dd_ids"
   ]
  },
  {
   "cell_type": "markdown",
   "metadata": {},
   "source": [
    "# Read Test Data"
   ]
  },
  {
   "cell_type": "code",
   "execution_count": 2,
   "metadata": {
    "collapsed": false
   },
   "outputs": [
    {
     "name": "stdout",
     "output_type": "stream",
     "text": [
      "5650 test entries\n",
      "5548 unique test CDR IDs\n",
      "(5650, 3)\n"
     ]
    }
   ],
   "source": [
    "jsns = [json.loads(x) for x in open('../../data/test_ht_data/ht_evaluation_NOCLASS.json', 'r')]\n",
    "print('{} test entries'.format(len(jsns)))\n",
    "for jsn in jsns:\n",
    "    jsn['cdr_id'] = jsn['ad']['_id']\n",
    "print('{} unique test CDR IDs'.format(len(set(jsn['cdr_id'] for jsn in jsns))))\n",
    "\n",
    "test_df = pd.DataFrame.from_records(jsns).ix[:, ['phone', 'url', 'cdr_id']]\n",
    "print(test_df.shape)\n",
    "\n",
    "del jsns"
   ]
  },
  {
   "cell_type": "code",
   "execution_count": 3,
   "metadata": {
    "collapsed": false
   },
   "outputs": [
    {
     "data": {
      "text/html": [
       "<div>\n",
       "<table border=\"1\" class=\"dataframe\">\n",
       "  <thead>\n",
       "    <tr style=\"text-align: right;\">\n",
       "      <th></th>\n",
       "      <th>phone</th>\n",
       "      <th>url</th>\n",
       "      <th>cdr_id</th>\n",
       "    </tr>\n",
       "  </thead>\n",
       "  <tbody>\n",
       "    <tr>\n",
       "      <th>0</th>\n",
       "      <td>[2149051457]</td>\n",
       "      <td>http://fortworth.backpage.com/online/classifie...</td>\n",
       "      <td>1807741462BCBBEDA63F5AB7DCF8B78F89ACA7069D31D6...</td>\n",
       "    </tr>\n",
       "    <tr>\n",
       "      <th>1</th>\n",
       "      <td>[2149051457]</td>\n",
       "      <td>http://fortworth.backpage.com/online/classifie...</td>\n",
       "      <td>167A757A134C36D9BFFC8CA368AFEDC812A8EA8BCF6341...</td>\n",
       "    </tr>\n",
       "    <tr>\n",
       "      <th>2</th>\n",
       "      <td>[2149051457]</td>\n",
       "      <td>http://massagetroll.com/dallas-massages/214-90...</td>\n",
       "      <td>BF6AA2B8EFB36A2F886EBC77CCD2AC64A50D68FC9B01D7...</td>\n",
       "    </tr>\n",
       "    <tr>\n",
       "      <th>3</th>\n",
       "      <td>[2149051457]</td>\n",
       "      <td>http://dallas.backpage.com/online/classifieds/...</td>\n",
       "      <td>6517C7C4ACF83CBDACAC85123C03C4735B865774EF8C6E...</td>\n",
       "    </tr>\n",
       "    <tr>\n",
       "      <th>4</th>\n",
       "      <td>[2149051457]</td>\n",
       "      <td>http://massagetroll.com/dallas-massages/214-90...</td>\n",
       "      <td>DDD6A267A5E067029B91B94390A83A7859C8655F15CA69...</td>\n",
       "    </tr>\n",
       "  </tbody>\n",
       "</table>\n",
       "</div>"
      ],
      "text/plain": [
       "          phone                                                url  \\\n",
       "0  [2149051457]  http://fortworth.backpage.com/online/classifie...   \n",
       "1  [2149051457]  http://fortworth.backpage.com/online/classifie...   \n",
       "2  [2149051457]  http://massagetroll.com/dallas-massages/214-90...   \n",
       "3  [2149051457]  http://dallas.backpage.com/online/classifieds/...   \n",
       "4  [2149051457]  http://massagetroll.com/dallas-massages/214-90...   \n",
       "\n",
       "                                              cdr_id  \n",
       "0  1807741462BCBBEDA63F5AB7DCF8B78F89ACA7069D31D6...  \n",
       "1  167A757A134C36D9BFFC8CA368AFEDC812A8EA8BCF6341...  \n",
       "2  BF6AA2B8EFB36A2F886EBC77CCD2AC64A50D68FC9B01D7...  \n",
       "3  6517C7C4ACF83CBDACAC85123C03C4735B865774EF8C6E...  \n",
       "4  DDD6A267A5E067029B91B94390A83A7859C8655F15CA69...  "
      ]
     },
     "execution_count": 3,
     "metadata": {},
     "output_type": "execute_result"
    }
   ],
   "source": [
    "test_df.head()"
   ]
  },
  {
   "cell_type": "code",
   "execution_count": 4,
   "metadata": {
    "collapsed": false
   },
   "outputs": [
    {
     "name": "stdout",
     "output_type": "stream",
     "text": [
      "(5550, 3)\n",
      "5550 unique CDR-phone pairs.\n",
      "5548 unique CDR IDs.\n",
      "37 unique phones.\n"
     ]
    }
   ],
   "source": [
    "test_df['phone'] = test_df.phone.apply(lambda x:','.join(x))\n",
    "test_df = disaggregated_df(test_df, 'phone', ',')\n",
    "print(test_df.shape)\n",
    "\n",
    "test_df['phone'] = test_df.phone.apply(phone_str_to_dd_format)\n",
    "print('{} unique CDR-phone pairs.'.format(test_df.drop_duplicates().shape[0]))\n",
    "print('{} unique CDR IDs.'.format(test_df.cdr_id.nunique()))\n",
    "print('{} unique phones.'.format(test_df.phone.nunique()))"
   ]
  },
  {
   "cell_type": "markdown",
   "metadata": {},
   "source": [
    "### Missing Phones!"
   ]
  },
  {
   "cell_type": "markdown",
   "metadata": {},
   "source": [
    "**Only 29** of these 37 phones are in the Lattice / Deep Dive dump:"
   ]
  },
  {
   "cell_type": "code",
   "execution_count": 5,
   "metadata": {
    "collapsed": true
   },
   "outputs": [],
   "source": [
    "phones_in_dd = set(['(214) 643-0854', '(214) 905-1457', '(225) 572-9627',\n",
    "                    '(281) 384-0032', '(281) 818-8756', '(325) 267-2364',\n",
    "                    '(401) 212-7204', '(401) 523-2205', '(469) 478-6538',\n",
    "                    '(469) 671-6959', '(501) 952-3516', '(504) 613-5108',\n",
    "                    '(520) 312-2202', '(561) 727-7483', '(585) 284-9482',\n",
    "                    '(619) 419-9933', '(702) 208-8444', '(702) 706-4860',\n",
    "                    '(713) 598-4991', '(806) 239-8076', '(806) 544-8003',\n",
    "                    '(806) 730-5586', '(817) 727-8494', '(832) 247-9222',\n",
    "                    '(832) 757-8556', '(832) 918-7312', '(832) 994-9119',\n",
    "                    '(912) 318-2015', '(912) 318-2157'])\n"
   ]
  },
  {
   "cell_type": "markdown",
   "metadata": {},
   "source": [
    "The missing ones:"
   ]
  },
  {
   "cell_type": "code",
   "execution_count": 6,
   "metadata": {
    "collapsed": false
   },
   "outputs": [
    {
     "name": "stdout",
     "output_type": "stream",
     "text": [
      "{'(419) 327-7637', '(562) 285-2815', '(361) 413-5273', '(832) 403-2271', '(562) 415-3838', '(361) 442-3991', '(484) 727-4685', '(361) 717-4718'}\n"
     ]
    }
   ],
   "source": [
    "missing_phones = set(test_df.phone.unique()) - phones_in_dd\n",
    "print(missing_phones)"
   ]
  },
  {
   "cell_type": "markdown",
   "metadata": {},
   "source": [
    "### Missing Ads!\n",
    "\n",
    "There are **only 4,345** of the 5,548 unique CDR IDs of that match the test data in the Lattice / Deep Dive dump:"
   ]
  },
  {
   "cell_type": "code",
   "execution_count": 7,
   "metadata": {
    "collapsed": false
   },
   "outputs": [
    {
     "name": "stdout",
     "output_type": "stream",
     "text": [
      "(4345, 2)\n"
     ]
    }
   ],
   "source": [
    "cdr_str_list = ','.join(['\"{}\"'.format(x) for x in test_df.cdr_id.unique()])\n",
    "\n",
    "sql_con = create_engine('sqlite:////Users/pmlandwehr/wkbnch/memex/memex_queries/dd_dump.db')\n",
    "query_str_fmt = 'select {} from {} where {} in ({})'.format\n",
    "query_str = query_str_fmt('*', 'dd_id_to_cdr_id', 'cdr_id', cdr_str_list)\n",
    "\n",
    "cdr_df = pd.read_sql(query_str, sql_con)\n",
    "print(cdr_df.shape)"
   ]
  },
  {
   "cell_type": "markdown",
   "metadata": {},
   "source": [
    "# Read DeepDive Data For Test\n",
    "## Get all ads that match on phones"
   ]
  },
  {
   "cell_type": "code",
   "execution_count": 8,
   "metadata": {
    "collapsed": false
   },
   "outputs": [],
   "source": [
    "sql_con = create_engine('sqlite:////Users/pmlandwehr/wkbnch/memex/memex_queries/dd_dump.db')\n",
    "query_str_fmt = 'select {} from {} where {} in ({})'.format"
   ]
  },
  {
   "cell_type": "code",
   "execution_count": 9,
   "metadata": {
    "collapsed": false
   },
   "outputs": [
    {
     "name": "stdout",
     "output_type": "stream",
     "text": [
      "(5658, 2)\n"
     ]
    }
   ],
   "source": [
    "phone_str_list = ','.join(['\"{}\"'.format(x) for x in test_df.phone.unique()])\n",
    "query_str = query_str_fmt('*', 'dd_id_to_phone', 'phone', phone_str_list)\n",
    "df = pd.read_sql(query_str, sql_con)\n",
    "print(df.shape)"
   ]
  },
  {
   "cell_type": "code",
   "execution_count": 10,
   "metadata": {
    "collapsed": false
   },
   "outputs": [
    {
     "name": "stdout",
     "output_type": "stream",
     "text": [
      "(3034, 2)\n"
     ]
    }
   ],
   "source": [
    "df = df.drop_duplicates()\n",
    "print(df.shape)"
   ]
  },
  {
   "cell_type": "code",
   "execution_count": 11,
   "metadata": {
    "collapsed": false
   },
   "outputs": [
    {
     "name": "stdout",
     "output_type": "stream",
     "text": [
      "(3020, 9)\n"
     ]
    }
   ],
   "source": [
    "df_2 = df_of_tables_for_dd_ids(list(df.dd_id.unique()),\n",
    "                                ['dd_id_to_price_duration',\n",
    "                                'dd_id_to_flag',\n",
    "                                'dd_id_to_age',\n",
    "                                'dd_id_to_cbsa',\n",
    "                                'dd_id_to_ethnicity',\n",
    "                                'dd_id_to_cdr_id'],\n",
    "                               sql_con)\n",
    "print(df_2.shape)"
   ]
  },
  {
   "cell_type": "code",
   "execution_count": 12,
   "metadata": {
    "collapsed": true
   },
   "outputs": [],
   "source": [
    "df_3 = df.merge(df_2, on='dd_id', how='outer')"
   ]
  },
  {
   "cell_type": "markdown",
   "metadata": {},
   "source": [
    "**Clean up**"
   ]
  },
  {
   "cell_type": "code",
   "execution_count": 13,
   "metadata": {
    "collapsed": true
   },
   "outputs": [],
   "source": [
    "del df\n",
    "del df_2"
   ]
  },
  {
   "cell_type": "markdown",
   "metadata": {},
   "source": [
    "## Merge in other cdr_ids\n",
    "Even though we know the Lattice database doesn't include *all* of the requisite CDR IDs, it does include some of, apparently not synced up with these phones. Let's add them in."
   ]
  },
  {
   "cell_type": "code",
   "execution_count": 14,
   "metadata": {
    "collapsed": false
   },
   "outputs": [
    {
     "name": "stdout",
     "output_type": "stream",
     "text": [
      "1467\n"
     ]
    }
   ],
   "source": [
    "cdr_ids_to_get = set(cdr_df.cdr_id.unique()) - set(df_3.cdr_id.unique())\n",
    "print(len(cdr_ids_to_get))"
   ]
  },
  {
   "cell_type": "code",
   "execution_count": 15,
   "metadata": {
    "collapsed": false
   },
   "outputs": [
    {
     "name": "stdout",
     "output_type": "stream",
     "text": [
      "(1499, 10)\n"
     ]
    }
   ],
   "source": [
    "df_4 = df_of_tables_for_dd_ids(list(cdr_df.ix[cdr_df.cdr_id.isin(cdr_ids_to_get), 'dd_id']),\n",
    "                                ['dd_id_to_phone',\n",
    "                                'dd_id_to_price_duration',\n",
    "                                'dd_id_to_flag',\n",
    "                                'dd_id_to_age',\n",
    "                                'dd_id_to_cbsa',\n",
    "                                'dd_id_to_ethnicity',\n",
    "                                'dd_id_to_cdr_id'],\n",
    "                               sql_con)\n",
    "print(df_4.shape)"
   ]
  },
  {
   "cell_type": "code",
   "execution_count": 16,
   "metadata": {
    "collapsed": false
   },
   "outputs": [
    {
     "name": "stdout",
     "output_type": "stream",
     "text": [
      "(4536, 10)\n"
     ]
    }
   ],
   "source": [
    "df_5 = df_3.merge(df_4, how='outer')\n",
    "print(df_5.shape)"
   ]
  },
  {
   "cell_type": "markdown",
   "metadata": {},
   "source": [
    "**Clean up**"
   ]
  },
  {
   "cell_type": "code",
   "execution_count": 17,
   "metadata": {
    "collapsed": true
   },
   "outputs": [],
   "source": [
    "del df_3\n",
    "del df_4"
   ]
  },
  {
   "cell_type": "markdown",
   "metadata": {},
   "source": [
    "For those ads with prices and durations, let's add a price per minute value"
   ]
  },
  {
   "cell_type": "code",
   "execution_count": 18,
   "metadata": {
    "collapsed": false
   },
   "outputs": [],
   "source": [
    "df_5['price_per_min'] = df_5.price / df_5.duration_in_mins"
   ]
  },
  {
   "cell_type": "markdown",
   "metadata": {},
   "source": [
    "# Join Deep Dive Data with Greg's HT Data\n",
    "## STD Data\n",
    "It looks like MSA, CBSA, and Name all match to the same values, so could drop some colums"
   ]
  },
  {
   "cell_type": "code",
   "execution_count": 19,
   "metadata": {
    "collapsed": true
   },
   "outputs": [],
   "source": [
    "std_df = pd.read_excel('../../data/greg_correlates/std.xlsx')"
   ]
  },
  {
   "cell_type": "code",
   "execution_count": 20,
   "metadata": {
    "collapsed": false
   },
   "outputs": [
    {
     "data": {
      "text/html": [
       "<div>\n",
       "<table border=\"1\" class=\"dataframe\">\n",
       "  <thead>\n",
       "    <tr style=\"text-align: right;\">\n",
       "      <th></th>\n",
       "      <th>MSA</th>\n",
       "      <th>CBSA</th>\n",
       "      <th>Name</th>\n",
       "      <th>Disease</th>\n",
       "      <th>Year</th>\n",
       "      <th>Cases</th>\n",
       "      <th>Rate</th>\n",
       "    </tr>\n",
       "  </thead>\n",
       "  <tbody>\n",
       "    <tr>\n",
       "      <th>0</th>\n",
       "      <td>31000US12060</td>\n",
       "      <td>12060</td>\n",
       "      <td>Atlanta-Sandy Springs-Roswell, GA</td>\n",
       "      <td>Chlamydia</td>\n",
       "      <td>2009</td>\n",
       "      <td>20337</td>\n",
       "      <td>370.2</td>\n",
       "    </tr>\n",
       "    <tr>\n",
       "      <th>1</th>\n",
       "      <td>31000US12420</td>\n",
       "      <td>12420</td>\n",
       "      <td>Austin-Round Rock, TX</td>\n",
       "      <td>Chlamydia</td>\n",
       "      <td>2009</td>\n",
       "      <td>8456</td>\n",
       "      <td>495.9</td>\n",
       "    </tr>\n",
       "    <tr>\n",
       "      <th>2</th>\n",
       "      <td>31000US12580</td>\n",
       "      <td>12580</td>\n",
       "      <td>Baltimore-Columbia-Towson, MD</td>\n",
       "      <td>Chlamydia</td>\n",
       "      <td>2009</td>\n",
       "      <td>12883</td>\n",
       "      <td>478.8</td>\n",
       "    </tr>\n",
       "    <tr>\n",
       "      <th>3</th>\n",
       "      <td>31000US13820</td>\n",
       "      <td>13820</td>\n",
       "      <td>Birmingham-Hoover, AL</td>\n",
       "      <td>Chlamydia</td>\n",
       "      <td>2009</td>\n",
       "      <td>6120</td>\n",
       "      <td>541.1</td>\n",
       "    </tr>\n",
       "    <tr>\n",
       "      <th>4</th>\n",
       "      <td>31000US14460</td>\n",
       "      <td>14460</td>\n",
       "      <td>Boston-Cambridge-Newton, MA-NH</td>\n",
       "      <td>Chlamydia</td>\n",
       "      <td>2009</td>\n",
       "      <td>13285</td>\n",
       "      <td>289.5</td>\n",
       "    </tr>\n",
       "  </tbody>\n",
       "</table>\n",
       "</div>"
      ],
      "text/plain": [
       "            MSA   CBSA                               Name    Disease  Year  \\\n",
       "0  31000US12060  12060  Atlanta-Sandy Springs-Roswell, GA  Chlamydia  2009   \n",
       "1  31000US12420  12420              Austin-Round Rock, TX  Chlamydia  2009   \n",
       "2  31000US12580  12580      Baltimore-Columbia-Towson, MD  Chlamydia  2009   \n",
       "3  31000US13820  13820              Birmingham-Hoover, AL  Chlamydia  2009   \n",
       "4  31000US14460  14460     Boston-Cambridge-Newton, MA-NH  Chlamydia  2009   \n",
       "\n",
       "   Cases   Rate  \n",
       "0  20337  370.2  \n",
       "1   8456  495.9  \n",
       "2  12883  478.8  \n",
       "3   6120  541.1  \n",
       "4  13285  289.5  "
      ]
     },
     "execution_count": 20,
     "metadata": {},
     "output_type": "execute_result"
    }
   ],
   "source": [
    "std_df.head()"
   ]
  },
  {
   "cell_type": "code",
   "execution_count": 21,
   "metadata": {
    "collapsed": false
   },
   "outputs": [
    {
     "name": "stdout",
     "output_type": "stream",
     "text": [
      "(25158, 16)\n"
     ]
    }
   ],
   "source": [
    "df_5 = df_5.merge(std_df.ix[:, ['Name', 'Disease', 'Year', 'Cases', 'Rate', 'MSA']],\n",
    "                  left_on='area',\n",
    "                  right_on='Name',\n",
    "                  how='left')\n",
    "del df_5['Name']\n",
    "print(df_5.shape)"
   ]
  },
  {
   "cell_type": "markdown",
   "metadata": {},
   "source": [
    "**Clean up**"
   ]
  },
  {
   "cell_type": "code",
   "execution_count": 22,
   "metadata": {
    "collapsed": true
   },
   "outputs": [],
   "source": [
    "del std_df"
   ]
  },
  {
   "cell_type": "markdown",
   "metadata": {},
   "source": [
    "## MSA Characteristics\n",
    "Note that we're using the **yearly** version of the file. We could also use the **monthly** version. I'm primarily choosing yearly because monthly had some import issues that it doesn't seem worth wrangling at this second."
   ]
  },
  {
   "cell_type": "code",
   "execution_count": 23,
   "metadata": {
    "collapsed": false
   },
   "outputs": [],
   "source": [
    "msa_df = pd.read_csv('../../data/greg_correlates/msa_characteristics.csv')"
   ]
  },
  {
   "cell_type": "code",
   "execution_count": 24,
   "metadata": {
    "collapsed": false
   },
   "outputs": [
    {
     "data": {
      "text/html": [
       "<div>\n",
       "<table border=\"1\" class=\"dataframe\">\n",
       "  <thead>\n",
       "    <tr style=\"text-align: right;\">\n",
       "      <th></th>\n",
       "      <th>census_msa_code</th>\n",
       "      <th>property</th>\n",
       "      <th>rape</th>\n",
       "      <th>violent</th>\n",
       "      <th>male_wage_mean</th>\n",
       "      <th>male_wage_p05</th>\n",
       "      <th>male_wage_p10</th>\n",
       "      <th>male_wage_p25</th>\n",
       "      <th>male_wage_p50</th>\n",
       "      <th>male_wage_p75</th>\n",
       "      <th>...</th>\n",
       "      <th>wage_sum.wght</th>\n",
       "      <th>female_epop</th>\n",
       "      <th>swnauthemp</th>\n",
       "      <th>swnftemp</th>\n",
       "      <th>ad_p10_msa</th>\n",
       "      <th>ad_p90_msa</th>\n",
       "      <th>ad_mean_msa</th>\n",
       "      <th>ad_median_msa</th>\n",
       "      <th>ad_count_msa</th>\n",
       "      <th>ad_p50_msa</th>\n",
       "    </tr>\n",
       "  </thead>\n",
       "  <tbody>\n",
       "    <tr>\n",
       "      <th>0</th>\n",
       "      <td>31000US10180</td>\n",
       "      <td>5538.60</td>\n",
       "      <td>63.00</td>\n",
       "      <td>593.8</td>\n",
       "      <td>NaN</td>\n",
       "      <td>NaN</td>\n",
       "      <td>NaN</td>\n",
       "      <td>NaN</td>\n",
       "      <td>NaN</td>\n",
       "      <td>NaN</td>\n",
       "      <td>...</td>\n",
       "      <td>NaN</td>\n",
       "      <td>NaN</td>\n",
       "      <td>197.0</td>\n",
       "      <td>179.0</td>\n",
       "      <td>80.000000</td>\n",
       "      <td>275.219812</td>\n",
       "      <td>169.981313</td>\n",
       "      <td>150.000000</td>\n",
       "      <td>1148.0</td>\n",
       "      <td>150.000000</td>\n",
       "    </tr>\n",
       "    <tr>\n",
       "      <th>1</th>\n",
       "      <td>31000US10420</td>\n",
       "      <td>21815.75</td>\n",
       "      <td>273.75</td>\n",
       "      <td>2182.0</td>\n",
       "      <td>30.566309</td>\n",
       "      <td>6.35</td>\n",
       "      <td>9.30</td>\n",
       "      <td>14.8</td>\n",
       "      <td>22.50</td>\n",
       "      <td>35.5</td>\n",
       "      <td>...</td>\n",
       "      <td>363283.0</td>\n",
       "      <td>0.463908</td>\n",
       "      <td>1034.0</td>\n",
       "      <td>975.0</td>\n",
       "      <td>83.333333</td>\n",
       "      <td>206.404629</td>\n",
       "      <td>134.607090</td>\n",
       "      <td>115.000000</td>\n",
       "      <td>4503.0</td>\n",
       "      <td>115.000000</td>\n",
       "    </tr>\n",
       "    <tr>\n",
       "      <th>2</th>\n",
       "      <td>31000US10500</td>\n",
       "      <td>6969.60</td>\n",
       "      <td>40.60</td>\n",
       "      <td>961.0</td>\n",
       "      <td>NaN</td>\n",
       "      <td>NaN</td>\n",
       "      <td>NaN</td>\n",
       "      <td>NaN</td>\n",
       "      <td>NaN</td>\n",
       "      <td>NaN</td>\n",
       "      <td>...</td>\n",
       "      <td>NaN</td>\n",
       "      <td>NaN</td>\n",
       "      <td>NaN</td>\n",
       "      <td>NaN</td>\n",
       "      <td>80.000000</td>\n",
       "      <td>251.629542</td>\n",
       "      <td>150.384258</td>\n",
       "      <td>140.000000</td>\n",
       "      <td>1565.0</td>\n",
       "      <td>140.000000</td>\n",
       "    </tr>\n",
       "    <tr>\n",
       "      <th>3</th>\n",
       "      <td>31000US10580</td>\n",
       "      <td>21216.20</td>\n",
       "      <td>175.40</td>\n",
       "      <td>2430.0</td>\n",
       "      <td>31.147955</td>\n",
       "      <td>7.00</td>\n",
       "      <td>9.75</td>\n",
       "      <td>15.0</td>\n",
       "      <td>25.00</td>\n",
       "      <td>37.5</td>\n",
       "      <td>...</td>\n",
       "      <td>434363.0</td>\n",
       "      <td>0.472414</td>\n",
       "      <td>NaN</td>\n",
       "      <td>NaN</td>\n",
       "      <td>90.000000</td>\n",
       "      <td>252.108219</td>\n",
       "      <td>165.443290</td>\n",
       "      <td>157.268464</td>\n",
       "      <td>3711.0</td>\n",
       "      <td>157.268464</td>\n",
       "    </tr>\n",
       "    <tr>\n",
       "      <th>4</th>\n",
       "      <td>31000US10740</td>\n",
       "      <td>37465.25</td>\n",
       "      <td>453.25</td>\n",
       "      <td>6314.5</td>\n",
       "      <td>26.628241</td>\n",
       "      <td>5.70</td>\n",
       "      <td>7.50</td>\n",
       "      <td>12.0</td>\n",
       "      <td>20.25</td>\n",
       "      <td>34.0</td>\n",
       "      <td>...</td>\n",
       "      <td>451024.0</td>\n",
       "      <td>0.400557</td>\n",
       "      <td>1347.0</td>\n",
       "      <td>1208.0</td>\n",
       "      <td>87.500000</td>\n",
       "      <td>244.352807</td>\n",
       "      <td>156.882813</td>\n",
       "      <td>144.974193</td>\n",
       "      <td>9978.0</td>\n",
       "      <td>144.974193</td>\n",
       "    </tr>\n",
       "  </tbody>\n",
       "</table>\n",
       "<p>5 rows × 44 columns</p>\n",
       "</div>"
      ],
      "text/plain": [
       "  census_msa_code  property    rape  violent  male_wage_mean  male_wage_p05  \\\n",
       "0    31000US10180   5538.60   63.00    593.8             NaN            NaN   \n",
       "1    31000US10420  21815.75  273.75   2182.0       30.566309           6.35   \n",
       "2    31000US10500   6969.60   40.60    961.0             NaN            NaN   \n",
       "3    31000US10580  21216.20  175.40   2430.0       31.147955           7.00   \n",
       "4    31000US10740  37465.25  453.25   6314.5       26.628241           5.70   \n",
       "\n",
       "   male_wage_p10  male_wage_p25  male_wage_p50  male_wage_p75     ...      \\\n",
       "0            NaN            NaN            NaN            NaN     ...       \n",
       "1           9.30           14.8          22.50           35.5     ...       \n",
       "2            NaN            NaN            NaN            NaN     ...       \n",
       "3           9.75           15.0          25.00           37.5     ...       \n",
       "4           7.50           12.0          20.25           34.0     ...       \n",
       "\n",
       "   wage_sum.wght  female_epop  swnauthemp  swnftemp ad_p10_msa  ad_p90_msa  \\\n",
       "0            NaN          NaN       197.0     179.0  80.000000  275.219812   \n",
       "1       363283.0     0.463908      1034.0     975.0  83.333333  206.404629   \n",
       "2            NaN          NaN         NaN       NaN  80.000000  251.629542   \n",
       "3       434363.0     0.472414         NaN       NaN  90.000000  252.108219   \n",
       "4       451024.0     0.400557      1347.0    1208.0  87.500000  244.352807   \n",
       "\n",
       "   ad_mean_msa  ad_median_msa  ad_count_msa  ad_p50_msa  \n",
       "0   169.981313     150.000000        1148.0  150.000000  \n",
       "1   134.607090     115.000000        4503.0  115.000000  \n",
       "2   150.384258     140.000000        1565.0  140.000000  \n",
       "3   165.443290     157.268464        3711.0  157.268464  \n",
       "4   156.882813     144.974193        9978.0  144.974193  \n",
       "\n",
       "[5 rows x 44 columns]"
      ]
     },
     "execution_count": 24,
     "metadata": {},
     "output_type": "execute_result"
    }
   ],
   "source": [
    "msa_df.head()"
   ]
  },
  {
   "cell_type": "code",
   "execution_count": 25,
   "metadata": {
    "collapsed": false
   },
   "outputs": [
    {
     "name": "stdout",
     "output_type": "stream",
     "text": [
      "(25158, 59)\n"
     ]
    }
   ],
   "source": [
    "df_5 = df_5.merge(msa_df,\n",
    "                  left_on='MSA',\n",
    "                  right_on='census_msa_code',\n",
    "                 how='left')\n",
    "del df_5['census_msa_code']\n",
    "print(df_5.shape)"
   ]
  },
  {
   "cell_type": "markdown",
   "metadata": {},
   "source": [
    "**Clean up**"
   ]
  },
  {
   "cell_type": "code",
   "execution_count": 26,
   "metadata": {
    "collapsed": true
   },
   "outputs": [],
   "source": [
    "del msa_df"
   ]
  },
  {
   "cell_type": "markdown",
   "metadata": {},
   "source": [
    "# Save the Results\n",
    "\n",
    "**NOTE** that I haven't done any sort of join with the \"missing\" phones or \"missing\" cdr ids from the test.\n",
    "This is a deliberate choice. We're keeping these files limited to things that map with deep dive."
   ]
  },
  {
   "cell_type": "code",
   "execution_count": 27,
   "metadata": {
    "collapsed": false
   },
   "outputs": [],
   "source": [
    "df_5.to_csv('../../data/merged/partial_test_data_to_use_by_ad.csv', index=False)\n",
    "df_5.to_pickle('../../data/merged/partial_test_data_to_use_by_ad.pkl')"
   ]
  }
 ],
 "metadata": {
  "kernelspec": {
   "display_name": "Python 3",
   "language": "python",
   "name": "python3"
  },
  "language_info": {
   "codemirror_mode": {
    "name": "ipython",
    "version": 3
   },
   "file_extension": ".py",
   "mimetype": "text/x-python",
   "name": "python",
   "nbconvert_exporter": "python",
   "pygments_lexer": "ipython3",
   "version": "3.5.1"
  }
 },
 "nbformat": 4,
 "nbformat_minor": 0
}
