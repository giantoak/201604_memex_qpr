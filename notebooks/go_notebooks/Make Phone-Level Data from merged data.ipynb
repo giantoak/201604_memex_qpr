{
 "cells": [
  {
   "cell_type": "markdown",
   "metadata": {},
   "source": [
    "# This notebook is also probably a bit janky. You might not be able to run it.\n",
    "Takes the original collection of ad data, groups it by phone with some summary stats, and ads some additional phone-level columns.\n",
    "\n",
    "It roughly approximates the procedures that Jeff was using to create his classifier data; see Part I of `jeff_classifier.py` for more information. I've tried to clean up the process a little, while maintaining his transformations.\n",
    "\n",
    "\n",
    "## Setup"
   ]
  },
  {
   "cell_type": "code",
   "execution_count": 1,
   "metadata": {
    "collapsed": true
   },
   "outputs": [],
   "source": [
    "from itertools import chain\n",
    "import ujson as json\n",
    "import multiprocessing as mp\n",
    "import numpy as np\n",
    "import pandas as pd\n",
    "from sklearn.linear_model import LinearRegression\n",
    "from sklearn.ensemble import ExtraTreesClassifier\n",
    "from sklearn.cross_validation import ShuffleSplit\n",
    "from sklearn.metrics import roc_curve\n",
    "from sklearn.metrics import auc\n",
    "from sklearn.cross_validation import StratifiedKFold\n",
    "from sklearn.metrics import roc_auc_score\n",
    "from sklearn.ensemble import ExtraTreesClassifier\n",
    "\n",
    "from helpers import disaggregated_df\n",
    "from helpers import aggregated_df\n",
    "from helpers import dummify_df\n",
    "from helpers import phone_str_to_dd_format"
   ]
  },
  {
   "cell_type": "markdown",
   "metadata": {},
   "source": [
    "## Read Svebor's Merge"
   ]
  },
  {
   "cell_type": "code",
   "execution_count": 2,
   "metadata": {
    "collapsed": false
   },
   "outputs": [
    {
     "name": "stdout",
     "output_type": "stream",
     "text": [
      "(191949, 63)\n"
     ]
    }
   ],
   "source": [
    "df = pd.read_csv('../../data/merged/data_to_use_by_ad_v3_with_exp_imgs.csv')\n",
    "print(df.shape)"
   ]
  },
  {
   "cell_type": "markdown",
   "metadata": {},
   "source": [
    "Some initial transformations"
   ]
  },
  {
   "cell_type": "code",
   "execution_count": 3,
   "metadata": {
    "collapsed": false
   },
   "outputs": [],
   "source": [
    "# df['has_images'] = df['images_count'].notnull()\n",
    "df.images_count.fillna(0)\n",
    "df['class'] = df['class'].isin(['positive'])"
   ]
  },
  {
   "cell_type": "markdown",
   "metadata": {},
   "source": [
    "At some point, a formatting issue got inserted into this ethnicity data. We fix that here."
   ]
  },
  {
   "cell_type": "code",
   "execution_count": 4,
   "metadata": {
    "collapsed": false
   },
   "outputs": [],
   "source": [
    "df.ethnicity = df.ethnicity.fillna('nan').apply(lambda x: x.replace(' ','|'))"
   ]
  },
  {
   "cell_type": "markdown",
   "metadata": {},
   "source": [
    "## Join in Steve's Data"
   ]
  },
  {
   "cell_type": "code",
   "execution_count": 5,
   "metadata": {
    "collapsed": false
   },
   "outputs": [
    {
     "name": "stdout",
     "output_type": "stream",
     "text": [
      "(1527450, 8)\n"
     ]
    }
   ],
   "source": [
    "steve = pd.read_csv('../../data/phone_aggregates/phones.csv')\n",
    "steve_cols = ['n_ads',\n",
    "              'n_distinct_locations',\n",
    "              'location_tree_length',\n",
    "              'n_outcall',\n",
    "              'n_incall',\n",
    "              'n_incall_and_outcall',\n",
    "              # 'average_n_days_before_revisit',\n",
    "              'n_cooccurring_phones']\n",
    "steve_phone = steve.loc[:, ['phone'] + steve_cols].drop_duplicates()\n",
    "\n",
    "print(steve_phone.shape)"
   ]
  },
  {
   "cell_type": "code",
   "execution_count": 6,
   "metadata": {
    "collapsed": false
   },
   "outputs": [
    {
     "name": "stdout",
     "output_type": "stream",
     "text": [
      "(29039, 70)\n"
     ]
    }
   ],
   "source": [
    "df = df.merge(steve_phone, how='left')\n",
    "df = df.loc[df[['dd_id', 'phone']].drop_duplicates().index]\n",
    "\n",
    "print(df.shape)"
   ]
  },
  {
   "cell_type": "markdown",
   "metadata": {},
   "source": [
    "## Sort out aggregation of continuous variables"
   ]
  },
  {
   "cell_type": "code",
   "execution_count": 7,
   "metadata": {
    "collapsed": true
   },
   "outputs": [],
   "source": [
    "numerical_vars = ['age',\n",
    "                  'price',\n",
    "                  'duration_in_mins',\n",
    "                  'price_per_min',\n",
    "                  'images_count',\n",
    "                  'exp_ads_from_simimages_count',\n",
    "                  'similar_images_count']\n",
    "\n",
    "phone_level_vars = ['n_ads',\n",
    "                    'n_distinct_locations',\n",
    "                    'location_tree_length',\n",
    "                    'n_outcall',\n",
    "                    'n_incall',\n",
    "                    'n_incall_and_outcall',\n",
    "                    'n_cooccurring_phones']"
   ]
  },
  {
   "cell_type": "code",
   "execution_count": 8,
   "metadata": {
    "collapsed": false
   },
   "outputs": [],
   "source": [
    "missing_vars = ['missing_{}'.format(col) for col in numerical_vars]\n",
    "\n",
    "# Missing images means 0 images\n",
    "# We've solved that with fillna(0)\n",
    "missing_vars.remove('missing_images_count')\n",
    "\n",
    "for col in missing_vars:\n",
    "    df[col] = ~df[col[len('missing_'):]].notnull().astype(int)"
   ]
  },
  {
   "cell_type": "code",
   "execution_count": 9,
   "metadata": {
    "collapsed": false
   },
   "outputs": [
    {
     "name": "stderr",
     "output_type": "stream",
     "text": [
      "/opt/anaconda3/lib/python3.5/site-packages/numpy/lib/function_base.py:3403: RuntimeWarning: Invalid value encountered in median\n",
      "  RuntimeWarning)\n"
     ]
    },
    {
     "name": "stdout",
     "output_type": "stream",
     "text": [
      "(567, 104)\n",
      "(567, 104)\n"
     ]
    }
   ],
   "source": [
    "numerical_df = df.groupby('phone')[numerical_vars + missing_vars].describe().unstack()\n",
    "print(numerical_df.shape)\n",
    "numerical_df = numerical_df.dropna(0, 'all')\n",
    "print(numerical_df.shape)"
   ]
  },
  {
   "cell_type": "code",
   "execution_count": 10,
   "metadata": {
    "collapsed": false
   },
   "outputs": [
    {
     "name": "stdout",
     "output_type": "stream",
     "text": [
      "(567, 7)\n",
      "(390, 7)\n"
     ]
    }
   ],
   "source": [
    "phone_level_df = df.groupby('phone')[phone_level_vars].max()\n",
    "print(phone_level_df.shape)\n",
    "phone_level_df = phone_level_df.dropna(0, 'all')\n",
    "print(phone_level_df.shape)"
   ]
  },
  {
   "cell_type": "markdown",
   "metadata": {},
   "source": [
    "## Sort out categorical variables"
   ]
  },
  {
   "cell_type": "code",
   "execution_count": 11,
   "metadata": {
    "collapsed": false
   },
   "outputs": [],
   "source": [
    "flag_dummies = dummify_df(df.loc[:, ['phone', 'flag', 'ethnicity']], ['flag', 'ethnicity'], '|')\n",
    "discrete_df = flag_dummies.groupby('phone').mean()"
   ]
  },
  {
   "cell_type": "markdown",
   "metadata": {},
   "source": [
    "## Merge all and clean up.\n",
    "\n",
    "This process includes fixing column names: many of the columns have tuples as names because of our use of `describe`. We fix that here, turning each tuple into a colon-separated list."
   ]
  },
  {
   "cell_type": "code",
   "execution_count": 12,
   "metadata": {
    "collapsed": false
   },
   "outputs": [
    {
     "name": "stdout",
     "output_type": "stream",
     "text": [
      "(567, 150)\n"
     ]
    }
   ],
   "source": [
    "phone_level_df = phone_level_df.join([numerical_df, discrete_df], how='outer')\n",
    "# phone_level_df['has_images'] = df.groupby('phone')['has_images'].max()\n",
    "phone_level_df['class'] = df.groupby('phone')['class'].max()\n",
    "\n",
    "phone_level_df = phone_level_df.fillna(-1).reset_index()\n",
    "phone_level_df['phone'] = phone_level_df['index']\n",
    "del phone_level_df['index']\n",
    "\n",
    "print(phone_level_df.shape)"
   ]
  },
  {
   "cell_type": "code",
   "execution_count": 13,
   "metadata": {
    "collapsed": true
   },
   "outputs": [],
   "source": [
    "phone_level_df.columns = [x if not isinstance(x, tuple) else ':'.join(x) for x in phone_level_df.columns]"
   ]
  },
  {
   "cell_type": "code",
   "execution_count": 14,
   "metadata": {
    "collapsed": false
   },
   "outputs": [],
   "source": [
    "phone_level_df.to_csv('../../data/merged/data_to_use_by_phone_v4.csv', index=False)\n",
    "phone_level_df.to_pickle('../../data/merged/data_to_use_by_phone_v4.pkl')"
   ]
  }
 ],
 "metadata": {
  "kernelspec": {
   "display_name": "Python 3",
   "language": "python",
   "name": "python3"
  },
  "language_info": {
   "codemirror_mode": {
    "name": "ipython",
    "version": 3
   },
   "file_extension": ".py",
   "mimetype": "text/x-python",
   "name": "python",
   "nbconvert_exporter": "python",
   "pygments_lexer": "ipython3",
   "version": "3.5.1"
  },
  "widgets": {
   "state": {},
   "version": "1.1.1"
  }
 },
 "nbformat": 4,
 "nbformat_minor": 0
}
