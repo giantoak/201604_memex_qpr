{
 "cells": [
  {
   "cell_type": "markdown",
   "metadata": {},
   "source": [
    "# This notebook is also probably a bit janky. You might not be able to run it.\n",
    "Takes the original collection of ad data, groups it by phone with some summary stats, and ads some additional phone-level columns. It isn't *quite* the process Jeff was using, but it's darn close.\n",
    "\n",
    "\n",
    "## Setup"
   ]
  },
  {
   "cell_type": "code",
   "execution_count": 1,
   "metadata": {
    "collapsed": true
   },
   "outputs": [],
   "source": [
    "from itertools import chain\n",
    "import ujson as json\n",
    "import multiprocessing as mp\n",
    "import numpy as np\n",
    "import pandas as pd\n",
    "from sklearn.linear_model import LinearRegression\n",
    "from sklearn.ensemble import ExtraTreesClassifier\n",
    "from sklearn.cross_validation import ShuffleSplit\n",
    "from sklearn.metrics import roc_curve\n",
    "from sklearn.metrics import auc\n",
    "from sklearn.cross_validation import StratifiedKFold\n",
    "from sklearn.metrics import roc_auc_score\n",
    "from sklearn.ensemble import ExtraTreesClassifier\n",
    "\n",
    "from helpers import disaggregated_df\n",
    "from helpers import aggregated_df\n",
    "from helpers import dummify_df\n",
    "from helpers import phone_str_to_dd_format"
   ]
  },
  {
   "cell_type": "markdown",
   "metadata": {},
   "source": [
    "## Read Svebor's Merge"
   ]
  },
  {
   "cell_type": "code",
   "execution_count": 2,
   "metadata": {
    "collapsed": false
   },
   "outputs": [
    {
     "name": "stdout",
     "output_type": "stream",
     "text": [
      "(191949, 63)\n",
      "(191949, 64)\n"
     ]
    }
   ],
   "source": [
    "df = pd.read_csv('../../data/merged/data_to_use_by_ad_v3_with_exp_imgs.csv')\n",
    "print(df.shape)\n",
    "df['has_images'] = df['images_count'].notnull()\n",
    "print(df.shape)"
   ]
  },
  {
   "cell_type": "markdown",
   "metadata": {},
   "source": [
    "## Join in Steve's Data"
   ]
  },
  {
   "cell_type": "code",
   "execution_count": 3,
   "metadata": {
    "collapsed": false
   },
   "outputs": [
    {
     "name": "stdout",
     "output_type": "stream",
     "text": [
      "(1527450, 9)\n"
     ]
    }
   ],
   "source": [
    "steve = pd.read_csv('../../data/phone_aggregates/phones.csv')\n",
    "steve_cols = ['n_ads',\n",
    "              'n_distinct_locations',\n",
    "              'location_tree_length',\n",
    "              'n_outcall',\n",
    "              'n_incall',\n",
    "              'n_incall_and_outcall',\n",
    "              'n_cooccurring_phones',\n",
    "              'average_n_days_before_revisit']\n",
    "\n",
    "steve_phone = steve.ix[:, ['phone'] + steve_cols].drop_duplicates()\n",
    "print(steve_phone.shape)"
   ]
  },
  {
   "cell_type": "code",
   "execution_count": 4,
   "metadata": {
    "collapsed": false
   },
   "outputs": [
    {
     "name": "stdout",
     "output_type": "stream",
     "text": [
      "Index(['class', 'phone', 'dd_id', 'price', 'duration_in_mins', 'flag', 'age',\n",
      "       'area', 'area_type', 'ethnicity', 'cdr_id', 'price_per_min', 'Disease',\n",
      "       'Year', 'Cases', 'Rate', 'MSA', 'property', 'rape', 'violent',\n",
      "       'male_wage_mean', 'male_wage_p05', 'male_wage_p10', 'male_wage_p25',\n",
      "       'male_wage_p50', 'male_wage_p75', 'male_wage_p90', 'male_wage_p95',\n",
      "       'male_N', 'male_epop', 'qcew_code', 'msa', 'population', 'unemployment',\n",
      "       'lt_highschool', 'highschool', 'some_college', 'college_plus',\n",
      "       'frac_white', 'avg_commute', 'female_wage_mean', 'wage_var.wage',\n",
      "       'female_wage_p05', 'female_wage_p10', 'female_wage_p25',\n",
      "       'female_wage_p50', 'female_wage_p75', 'female_wage_p90',\n",
      "       'female_wage_p95', 'female_N', 'wage_sum.wght', 'female_epop',\n",
      "       'swnauthemp', 'swnftemp', 'ad_p10_msa', 'ad_p90_msa', 'ad_mean_msa',\n",
      "       'ad_median_msa', 'ad_count_msa', 'ad_p50_msa', 'images_count',\n",
      "       'exp_ads_from_simimages_count', 'similar_images_count', 'has_images',\n",
      "       'n_ads', 'n_distinct_locations', 'location_tree_length', 'n_outcall',\n",
      "       'n_incall', 'n_incall_and_outcall', 'n_cooccurring_phones',\n",
      "       'average_n_days_before_revisit'],\n",
      "      dtype='object')\n"
     ]
    }
   ],
   "source": [
    "df = df.merge(steve_phone, how='left', on='phone')\n",
    "print(df.columns)"
   ]
  },
  {
   "cell_type": "markdown",
   "metadata": {},
   "source": [
    "## Sort out aggregation of continuous variables"
   ]
  },
  {
   "cell_type": "code",
   "execution_count": 5,
   "metadata": {
    "collapsed": true
   },
   "outputs": [],
   "source": [
    "numerical_vars = ['age',\n",
    "                  'price',\n",
    "                  'duration_in_mins',\n",
    "                  'price_per_min',\n",
    "                  'images_count',\n",
    "                  'exp_ads_from_simimages_count',\n",
    "                  'similar_images_count']\n",
    "\n",
    "phone_level_vars = ['n_ads',\n",
    "                    'n_distinct_locations',\n",
    "                    'location_tree_length',\n",
    "                    'n_outcall', 'n_incall',\n",
    "                    'n_incall_and_outcall',\n",
    "                    'n_cooccurring_phones']"
   ]
  },
  {
   "cell_type": "code",
   "execution_count": 6,
   "metadata": {
    "collapsed": false
   },
   "outputs": [
    {
     "name": "stdout",
     "output_type": "stream",
     "text": [
      "(567, 57)\n"
     ]
    }
   ],
   "source": [
    "numerical = df.groupby('phone')[numerical_vars].describe().unstack().reset_index()\n",
    "print(numerical.shape)"
   ]
  },
  {
   "cell_type": "code",
   "execution_count": 7,
   "metadata": {
    "collapsed": false
   },
   "outputs": [
    {
     "name": "stdout",
     "output_type": "stream",
     "text": [
      "(567, 8)\n"
     ]
    }
   ],
   "source": [
    "phone_level_vars = df.groupby('phone')[phone_level_vars].max().reset_index()\n",
    "print(phone_level_vars.shape)"
   ]
  },
  {
   "cell_type": "markdown",
   "metadata": {},
   "source": [
    "## Sort out categorical variables"
   ]
  },
  {
   "cell_type": "code",
   "execution_count": 8,
   "metadata": {
    "collapsed": true
   },
   "outputs": [],
   "source": [
    "flag_dummies = pd.get_dummies(df['flag'])\n",
    "flag_dummies = pd.concat([df['phone'], flag_dummies], axis=1)\n",
    "discrete = flag_dummies.groupby('phone').mean().reset_index()"
   ]
  },
  {
   "cell_type": "markdown",
   "metadata": {},
   "source": [
    "## Merge all and clean up."
   ]
  },
  {
   "cell_type": "code",
   "execution_count": 18,
   "metadata": {
    "collapsed": false
   },
   "outputs": [
    {
     "name": "stdout",
     "output_type": "stream",
     "text": [
      "(567, 128)\n",
      "(567, 128)\n"
     ]
    }
   ],
   "source": [
    "phone_level = numerical.merge(discrete, on='phone', how='outer').merge(phone_level_vars, on='phone', how='outer')\n",
    "print(phone_level.shape)\n",
    "\n",
    "phone_level.set_index('phone', inplace=True)\n",
    "phone_level['has_images'] = df.groupby('phone')['has_images'].max()\n",
    "print(phone_level.shape)"
   ]
  },
  {
   "cell_type": "code",
   "execution_count": 19,
   "metadata": {
    "collapsed": false
   },
   "outputs": [
    {
     "name": "stdout",
     "output_type": "stream",
     "text": [
      "(567, 129)\n"
     ]
    }
   ],
   "source": [
    "phone_level.reset_index(inplace=True)\n",
    "print(phone_level.shape)"
   ]
  },
  {
   "cell_type": "code",
   "execution_count": 17,
   "metadata": {
    "collapsed": false
   },
   "outputs": [],
   "source": [
    "phone_level = phone_level.fillna(0)"
   ]
  },
  {
   "cell_type": "code",
   "execution_count": null,
   "metadata": {
    "collapsed": true
   },
   "outputs": [],
   "source": [
    "phone_level.to_csv('../../data/merged/data_to_use_by_phone_v4.csv', index=False)\n",
    "phone_level.to_pickle('../../data/merged/data_to_use_by_phone_v4.pkl')"
   ]
  }
 ],
 "metadata": {
  "kernelspec": {
   "display_name": "Python 3",
   "language": "python",
   "name": "python3"
  },
  "language_info": {
   "codemirror_mode": {
    "name": "ipython",
    "version": 3
   },
   "file_extension": ".py",
   "mimetype": "text/x-python",
   "name": "python",
   "nbconvert_exporter": "python",
   "pygments_lexer": "ipython3",
   "version": "3.5.1"
  }
 },
 "nbformat": 4,
 "nbformat_minor": 0
}
