{
 "cells": [
  {
   "cell_type": "markdown",
   "metadata": {},
   "source": [
    "# The Features That Mattered\n",
    "\n",
    "We want to consider the features that appeared relevant in our random forest at the QPR.\n",
    "\n",
    "## Imports"
   ]
  },
  {
   "cell_type": "code",
   "execution_count": 1,
   "metadata": {
    "collapsed": true
   },
   "outputs": [],
   "source": [
    "import pandas as pd\n",
    "import pickle\n",
    "import seaborn as sns\n",
    "\n",
    "%matplotlib inline"
   ]
  },
  {
   "cell_type": "markdown",
   "metadata": {},
   "source": [
    "## Read the saved classifier\n",
    "* **rf** is the trained Random Forest\n",
    "* **feat_df** is a DataFrame of the different features\n",
    "* **feat_series** is a series of the feature importances in **rf**, keyed on the feature name"
   ]
  },
  {
   "cell_type": "code",
   "execution_count": 2,
   "metadata": {
    "collapsed": true
   },
   "outputs": [],
   "source": [
    "rf = pickle.load(open('../../jeff_results/giant_oak_RF.pkl', 'rb'), encoding='latin1')\n",
    "feat_df = pd.read_csv('../../jeff_results/giant_oak_features.csv')\n",
    "feat_series = pd.Series(rf.feature_importances_, list(feat_df.columns)[1:])"
   ]
  },
  {
   "cell_type": "markdown",
   "metadata": {},
   "source": [
    "### The 20 most important features"
   ]
  },
  {
   "cell_type": "code",
   "execution_count": 3,
   "metadata": {
    "collapsed": false
   },
   "outputs": [
    {
     "data": {
      "text/plain": [
       "('age', 'count')                             0.061868\n",
       "('age', 'min')                               0.058684\n",
       "n_ads                                        0.046728\n",
       "('age', 'mean')                              0.035435\n",
       "n_distinct_locations                         0.031087\n",
       "flag_Juvenile                                0.027957\n",
       "('age', '25%')                               0.026938\n",
       "('age', '50%')                               0.026060\n",
       "('age', '75%')                               0.025725\n",
       "('age', 'max')                               0.024739\n",
       "('age', 'std')                               0.022430\n",
       "flag_Traveling                               0.022116\n",
       "('images_count', '50%')                      0.021978\n",
       "('images_count', 'count')                    0.021684\n",
       "('images_count', 'mean')                     0.020829\n",
       "('exp_ads_from_simimages_count', 'count')    0.020304\n",
       "('images_count', '25%')                      0.018941\n",
       "flag_Foreign                                 0.018459\n",
       "('images_count', 'max')                      0.017933\n",
       "('similar_images_count', 'count')            0.017395\n",
       "dtype: float64"
      ]
     },
     "execution_count": 3,
     "metadata": {},
     "output_type": "execute_result"
    }
   ],
   "source": [
    "feat_series.sort_values(ascending=False).head(20)"
   ]
  },
  {
   "cell_type": "markdown",
   "metadata": {},
   "source": [
    "### The 40th - 60th most important features"
   ]
  },
  {
   "cell_type": "code",
   "execution_count": 4,
   "metadata": {
    "collapsed": false
   },
   "outputs": [
    {
     "data": {
      "text/plain": [
       "('exp_ads_from_simimages_count', '25%')    0.009912\n",
       "('exp_ads_from_simimages_count', 'std')    0.009334\n",
       "ethnicity_Ebony                            0.009115\n",
       "('exp_ads_from_simimages_count', 'min')    0.007783\n",
       "ethnicity_White                            0.007415\n",
       "ethnicity_Latina                           0.007328\n",
       "ethnicity_Rican                            0.005904\n",
       "ethnicity_Indian                           0.005404\n",
       "('price', 'count')                         0.005362\n",
       "flag_Multiple                              0.004990\n",
       "('price', 'std')                           0.004911\n",
       "ethnicity_Dominican                        0.004690\n",
       "ethnicity_Asian                            0.004205\n",
       "has_images                                 0.004069\n",
       "flag_Girls                                 0.004064\n",
       "('duration_in_mins', 'count')              0.003627\n",
       "('price', '75%')                           0.003511\n",
       "('price', 'max')                           0.002987\n",
       "flag_URL                                   0.002781\n",
       "ethnicity_Latin                            0.002545\n",
       "dtype: float64"
      ]
     },
     "execution_count": 4,
     "metadata": {},
     "output_type": "execute_result"
    }
   ],
   "source": [
    "feat_series.sort_values(ascending=False).head(60).tail(20)"
   ]
  },
  {
   "cell_type": "code",
   "execution_count": 5,
   "metadata": {
    "collapsed": false
   },
   "outputs": [
    {
     "data": {
      "text/plain": [
       "<matplotlib.axes._subplots.AxesSubplot at 0x11c7c1f98>"
      ]
     },
     "execution_count": 5,
     "metadata": {},
     "output_type": "execute_result"
    },
    {
     "data": {
      "image/png": "[encoded data removed]",
      "text/plain": [
       "<matplotlib.figure.Figure at 0x11c773550>"
      ]
     },
     "metadata": {},
     "output_type": "display_data"
    }
   ],
   "source": [
    "sns.violinplot(feat_series, inner='point')"
   ]
  }
 ],
 "metadata": {
  "kernelspec": {
   "display_name": "Python 3",
   "language": "python",
   "name": "python3"
  },
  "language_info": {
   "codemirror_mode": {
    "name": "ipython",
    "version": 3
   },
   "file_extension": ".py",
   "mimetype": "text/x-python",
   "name": "python",
   "nbconvert_exporter": "python",
   "pygments_lexer": "ipython3",
   "version": "3.5.1"
  },
  "widgets": {
   "state": {},
   "version": "1.1.1"
  }
 },
 "nbformat": 4,
 "nbformat_minor": 0
}
