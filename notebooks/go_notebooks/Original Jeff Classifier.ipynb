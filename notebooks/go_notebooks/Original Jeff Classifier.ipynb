{
 "cells": [
  {
   "cell_type": "markdown",
   "metadata": {},
   "source": [
    "# The Features That Mattered\n",
    "\n",
    "We want to consider the features that appeared relevant in our random forest at the QPR."
   ]
  },
  {
   "cell_type": "code",
   "execution_count": 1,
   "metadata": {
    "collapsed": true
   },
   "outputs": [],
   "source": [
    "import pandas as pd\n",
    "import pickle"
   ]
  },
  {
   "cell_type": "code",
   "execution_count": 2,
   "metadata": {
    "collapsed": true
   },
   "outputs": [],
   "source": [
    "rf = pickle.load(open('../../jeff_results/giant_oak_RF.pkl', 'rb'), encoding='latin1')\n",
    "feat_df = pd.read_csv('../../jeff_results/giant_oak_features.csv')\n",
    "feat_series = pd.Series(rf.feature_importances_, list(feat_df.columns)[1:])"
   ]
  },
  {
   "cell_type": "code",
   "execution_count": 10,
   "metadata": {
    "collapsed": false
   },
   "outputs": [
    {
     "data": {
      "text/plain": [
       "('age', 'count')                             0.061868\n",
       "('age', 'min')                               0.058684\n",
       "n_ads                                        0.046728\n",
       "('age', 'mean')                              0.035435\n",
       "n_distinct_locations                         0.031087\n",
       "flag_Juvenile                                0.027957\n",
       "('age', '25%')                               0.026938\n",
       "('age', '50%')                               0.026060\n",
       "('age', '75%')                               0.025725\n",
       "('age', 'max')                               0.024739\n",
       "('age', 'std')                               0.022430\n",
       "flag_Traveling                               0.022116\n",
       "('images_count', '50%')                      0.021978\n",
       "('images_count', 'count')                    0.021684\n",
       "('images_count', 'mean')                     0.020829\n",
       "('exp_ads_from_simimages_count', 'count')    0.020304\n",
       "('images_count', '25%')                      0.018941\n",
       "flag_Foreign                                 0.018459\n",
       "('images_count', 'max')                      0.017933\n",
       "('similar_images_count', 'count')            0.017395\n",
       "dtype: float64"
      ]
     },
     "execution_count": 10,
     "metadata": {},
     "output_type": "execute_result"
    }
   ],
   "source": [
    "feat_series.sort_values(ascending=False).head(20)"
   ]
  },
  {
   "cell_type": "code",
   "execution_count": 8,
   "metadata": {
    "collapsed": false
   },
   "outputs": [
    {
     "data": {
      "text/plain": [
       "('duration_in_mins', '25%')    0.001099\n",
       "('duration_in_mins', '50%')    0.000768\n",
       "('duration_in_mins', '75%')    0.000591\n",
       "('duration_in_mins', 'max')    0.000395\n",
       "('price_per_min', 'count')     0.001722\n",
       "('price_per_min', 'mean')      0.001464\n",
       "('price_per_min', 'std')       0.000772\n",
       "('price_per_min', 'min')       0.000941\n",
       "('price_per_min', '25%')       0.001741\n",
       "('price_per_min', '50%')       0.001475\n",
       "('price_per_min', '75%')       0.002375\n",
       "('price_per_min', 'max')       0.001158\n",
       "('images_count', 'count')      0.021684\n",
       "('images_count', 'mean')       0.020829\n",
       "('images_count', 'std')        0.015603\n",
       "('images_count', 'min')        0.017305\n",
       "('images_count', '25%')        0.018941\n",
       "('images_count', '50%')        0.021978\n",
       "('images_count', '75%')        0.015902\n",
       "('images_count', 'max')        0.017933\n",
       "dtype: float64"
      ]
     },
     "execution_count": 8,
     "metadata": {},
     "output_type": "execute_result"
    }
   ],
   "source": [
    "feat_series.head(40).tail(20)"
   ]
  }
 ],
 "metadata": {
  "kernelspec": {
   "display_name": "Python 3",
   "language": "python",
   "name": "python3"
  },
  "language_info": {
   "codemirror_mode": {
    "name": "ipython",
    "version": 3
   },
   "file_extension": ".py",
   "mimetype": "text/x-python",
   "name": "python",
   "nbconvert_exporter": "python",
   "pygments_lexer": "ipython3",
   "version": "3.5.1"
  },
  "widgets": {
   "state": {},
   "version": "1.1.1"
  }
 },
 "nbformat": 4,
 "nbformat_minor": 0
}
