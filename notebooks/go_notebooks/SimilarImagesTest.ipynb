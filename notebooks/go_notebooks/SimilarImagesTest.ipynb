{
 "cells": [
  {
   "cell_type": "code",
   "execution_count": 3,
   "metadata": {
    "collapsed": false
   },
   "outputs": [],
   "source": [
    "from itertools import chain\n",
    "# To make it work on OS X\n",
    "import matplotlib\n",
    "matplotlib.use('TkAgg')\n",
    "# --\n",
    "import ujson as json\n",
    "import multiprocessing as mp\n",
    "import numpy as np\n",
    "import pandas as pd\n",
    "import seaborn as sns\n",
    "from sklearn.linear_model import LinearRegression\n",
    "from sklearn.ensemble import ExtraTreesClassifier\n",
    "from sklearn.cross_validation import ShuffleSplit\n",
    "from sklearn.metrics import roc_curve\n",
    "from sklearn.metrics import auc\n",
    "from sklearn.metrics import precision_recall_fscore_support\n",
    "\n",
    "from helpers import disaggregated_df\n",
    "from helpers import aggregated_df\n",
    "from helpers import dummify_df\n",
    "\n",
    "%matplotlib inline\n",
    "sns.set(font='monospace')"
   ]
  },
  {
   "cell_type": "code",
   "execution_count": 4,
   "metadata": {
    "collapsed": false
   },
   "outputs": [],
   "source": [
    "def format_jsns_to_key_count(jsns):\n",
    "    records = []\n",
    "    for record in jsns:\n",
    "        key = list(record.keys())\n",
    "        #print(key[0],len(record[key[0]]))\n",
    "        records.append((key[0],np.asarray([len(record[key[0]])])))\n",
    "    return records"
   ]
  },
  {
   "cell_type": "markdown",
   "metadata": {},
   "source": [
    "# Load similar images info"
   ]
  },
  {
   "cell_type": "code",
   "execution_count": 5,
   "metadata": {
    "collapsed": false
   },
   "outputs": [],
   "source": [
    "#jsns = [json.loads(x) for x in open('../../data/images_expanded/ht_evaluation_NOCLASS_images.jl', 'r')]\n",
    "jsns = [json.loads(x) for x in open('../../data/images_expanded/ht_evaluation_images.jl', 'r')]\n",
    "records_images = format_jsns_to_key_count(jsns)"
   ]
  },
  {
   "cell_type": "code",
   "execution_count": 6,
   "metadata": {
    "collapsed": false
   },
   "outputs": [
    {
     "name": "stdout",
     "output_type": "stream",
     "text": [
      "4557\n"
     ]
    }
   ],
   "source": [
    "print(len(records_images))"
   ]
  },
  {
   "cell_type": "code",
   "execution_count": 7,
   "metadata": {
    "collapsed": false
   },
   "outputs": [],
   "source": [
    "df_images = pd.DataFrame.from_items(records_images,orient='index',columns=['images_count'])"
   ]
  },
  {
   "cell_type": "code",
   "execution_count": 8,
   "metadata": {
    "collapsed": false
   },
   "outputs": [
    {
     "name": "stdout",
     "output_type": "stream",
     "text": [
      "4557\n"
     ]
    }
   ],
   "source": [
    "#print(df_images.head())\n",
    "print(len(df_images.index.get_values()))"
   ]
  },
  {
   "cell_type": "code",
   "execution_count": 9,
   "metadata": {
    "collapsed": true
   },
   "outputs": [],
   "source": [
    "#jsns = [json.loads(x) for x in open('../../data/images_expanded/ht_evaluation_NOCLASS_similar_images_count_th100_dist_th0.1.jsonl', 'r')]\n",
    "jsns = [json.loads(x) for x in open('../../data/images_expanded/ht_evaluation_similar_images_count_th100_dist_th0.1.jsonl', 'r')]\n",
    "records_images_similar = format_jsns_to_key_count(jsns)\n",
    "df_images_similar = pd.DataFrame.from_items(records_images_similar,orient='index',columns=['similar_images_count'])"
   ]
  },
  {
   "cell_type": "code",
   "execution_count": 10,
   "metadata": {
    "collapsed": false
   },
   "outputs": [
    {
     "name": "stdout",
     "output_type": "stream",
     "text": [
      "4557\n"
     ]
    }
   ],
   "source": [
    "print(len(df_images_similar.index.get_values()))"
   ]
  },
  {
   "cell_type": "code",
   "execution_count": 11,
   "metadata": {
    "collapsed": false
   },
   "outputs": [],
   "source": [
    "#jsns = [json.loads(x) for x in open('../../data/images_expanded/ht_evaluation_NOCLASS_expanded_ads_from_similar_images_count_th100_dist_th0.1.jsonl', 'r')]\n",
    "jsns = [json.loads(x) for x in open('../../data/images_expanded/ht_evaluation_expanded_ads_from_similar_images_count_th100_dist_th0.1.jsonl', 'r')]\n",
    "records_exp_ads_from_simimages = format_jsns_to_key_count(jsns)\n",
    "df_exp_ads_from_simimages = pd.DataFrame.from_items(records_exp_ads_from_simimages,orient='index',columns=['exp_ads_from_simimages_count'])"
   ]
  },
  {
   "cell_type": "code",
   "execution_count": 12,
   "metadata": {
    "collapsed": false
   },
   "outputs": [
    {
     "name": "stdout",
     "output_type": "stream",
     "text": [
      "4557\n",
      "                                                    exp_ads_from_simimages_count\n",
      "727D6028F94666B2238C0E5A9532C1CD9CA680DB36839D8...                          2672\n",
      "869DB34ABF57BFD8ECE843E790D7A2D881079DA0A02B350...                           342\n",
      "4BED77C8D79B28F9E5A097B149E972F0F0B3BB32025F278...                            48\n",
      "7A81A5306AA6BAC08488851B7477836873465D840E1C7C1...                          1188\n",
      "E070910AC34A470BBD239DF9783A297247C4DAABA26EE82...                           216\n"
     ]
    }
   ],
   "source": [
    "print(len(df_exp_ads_from_simimages.index.get_values()))\n",
    "print(df_exp_ads_from_simimages.head())"
   ]
  },
  {
   "cell_type": "markdown",
   "metadata": {},
   "source": [
    "## Try to merge with df"
   ]
  },
  {
   "cell_type": "code",
   "execution_count": 13,
   "metadata": {
    "collapsed": true
   },
   "outputs": [],
   "source": [
    "df = pd.read_csv('../../data/eval/partial_test_data_to_use_by_ad.csv')"
   ]
  },
  {
   "cell_type": "code",
   "execution_count": 14,
   "metadata": {
    "collapsed": false
   },
   "outputs": [
    {
     "name": "stdout",
     "output_type": "stream",
     "text": [
      "Index(['dd_id', 'phone', 'price', 'duration_in_mins', 'flag', 'age', 'area',\n",
      "       'area_type', 'ethnicity', 'cdr_id', 'price_per_min', 'Disease', 'Year',\n",
      "       'Cases', 'Rate', 'MSA', 'property', 'rape', 'violent', 'male_wage_mean',\n",
      "       'male_wage_p05', 'male_wage_p10', 'male_wage_p25', 'male_wage_p50',\n",
      "       'male_wage_p75', 'male_wage_p90', 'male_wage_p95', 'male_N',\n",
      "       'male_epop', 'qcew_code', 'msa', 'population', 'unemployment',\n",
      "       'lt_highschool', 'highschool', 'some_college', 'college_plus',\n",
      "       'frac_white', 'avg_commute', 'female_wage_mean', 'wage_var.wage',\n",
      "       'female_wage_p05', 'female_wage_p10', 'female_wage_p25',\n",
      "       'female_wage_p50', 'female_wage_p75', 'female_wage_p90',\n",
      "       'female_wage_p95', 'female_N', 'wage_sum.wght', 'female_epop',\n",
      "       'swnauthemp', 'swnftemp', 'ad_p10_msa', 'ad_p90_msa', 'ad_mean_msa',\n",
      "       'ad_median_msa', 'ad_count_msa', 'ad_p50_msa'],\n",
      "      dtype='object')\n"
     ]
    }
   ],
   "source": [
    "print(df.columns)"
   ]
  },
  {
   "cell_type": "code",
   "execution_count": 15,
   "metadata": {
    "collapsed": false
   },
   "outputs": [
    {
     "name": "stdout",
     "output_type": "stream",
     "text": [
      "59 Index(['dd_id', 'phone', 'price', 'duration_in_mins', 'flag', 'age', 'area',\n",
      "       'area_type', 'ethnicity', 'cdr_id', 'price_per_min', 'Disease', 'Year',\n",
      "       'Cases', 'Rate', 'MSA', 'property', 'rape', 'violent', 'male_wage_mean',\n",
      "       'male_wage_p05', 'male_wage_p10', 'male_wage_p25', 'male_wage_p50',\n",
      "       'male_wage_p75', 'male_wage_p90', 'male_wage_p95', 'male_N',\n",
      "       'male_epop', 'qcew_code', 'msa', 'population', 'unemployment',\n",
      "       'lt_highschool', 'highschool', 'some_college', 'college_plus',\n",
      "       'frac_white', 'avg_commute', 'female_wage_mean', 'wage_var.wage',\n",
      "       'female_wage_p05', 'female_wage_p10', 'female_wage_p25',\n",
      "       'female_wage_p50', 'female_wage_p75', 'female_wage_p90',\n",
      "       'female_wage_p95', 'female_N', 'wage_sum.wght', 'female_epop',\n",
      "       'swnauthemp', 'swnftemp', 'ad_p10_msa', 'ad_p90_msa', 'ad_mean_msa',\n",
      "       'ad_median_msa', 'ad_count_msa', 'ad_p50_msa'],\n",
      "      dtype='object')\n",
      "62 Index(['dd_id', 'phone', 'price', 'duration_in_mins', 'flag', 'age', 'area',\n",
      "       'area_type', 'ethnicity', 'cdr_id', 'price_per_min', 'Disease', 'Year',\n",
      "       'Cases', 'Rate', 'MSA', 'property', 'rape', 'violent', 'male_wage_mean',\n",
      "       'male_wage_p05', 'male_wage_p10', 'male_wage_p25', 'male_wage_p50',\n",
      "       'male_wage_p75', 'male_wage_p90', 'male_wage_p95', 'male_N',\n",
      "       'male_epop', 'qcew_code', 'msa', 'population', 'unemployment',\n",
      "       'lt_highschool', 'highschool', 'some_college', 'college_plus',\n",
      "       'frac_white', 'avg_commute', 'female_wage_mean', 'wage_var.wage',\n",
      "       'female_wage_p05', 'female_wage_p10', 'female_wage_p25',\n",
      "       'female_wage_p50', 'female_wage_p75', 'female_wage_p90',\n",
      "       'female_wage_p95', 'female_N', 'wage_sum.wght', 'female_epop',\n",
      "       'swnauthemp', 'swnftemp', 'ad_p10_msa', 'ad_p90_msa', 'ad_mean_msa',\n",
      "       'ad_median_msa', 'ad_count_msa', 'ad_p50_msa', 'images_count',\n",
      "       'exp_ads_from_simimages_count', 'similar_images_count'],\n",
      "      dtype='object')\n",
      "(25158, 59)\n",
      "(25158, 62)\n"
     ]
    }
   ],
   "source": [
    "# Merge column \"cdr_id\" with index of the other data frames\n",
    "print(len(df.columns),df.columns)\n",
    "df_with_img_count = pd.merge(df, df_images, how='left', left_on='cdr_id', right_index=True)\n",
    "df_with_img_count = pd.merge(df_with_img_count, df_exp_ads_from_simimages, how='left', left_on='cdr_id', right_index=True)\n",
    "df_with_img_count = pd.merge(df_with_img_count, df_images_similar, how='left', left_on='cdr_id', right_index=True)\n",
    "print(len(df_with_img_count.columns),df_with_img_count.columns)\n",
    "print(df.shape)\n",
    "print(df_with_img_count.shape)\n",
    "# Missing all the negatives?"
   ]
  },
  {
   "cell_type": "code",
   "execution_count": 16,
   "metadata": {
    "collapsed": false
   },
   "outputs": [
    {
     "name": "stdout",
     "output_type": "stream",
     "text": [
      "6348\n"
     ]
    }
   ],
   "source": [
    "#print(df_with_img_count.columns)\n",
    "print(pd.isnull(df_with_img_count.similar_images_count).sum())\n",
    "#print(df.cdr_id[0])"
   ]
  },
  {
   "cell_type": "code",
   "execution_count": 17,
   "metadata": {
    "collapsed": false
   },
   "outputs": [
    {
     "name": "stdout",
     "output_type": "stream",
     "text": [
      "                                              cdr_id  class  images_count  \\\n",
      "0  DE06D9924AD4166B1D3293455FA56E76D6D4BFDF29563F...    NaN           4.0   \n",
      "1  DE06D9924AD4166B1D3293455FA56E76D6D4BFDF29563F...    NaN           4.0   \n",
      "2  DE06D9924AD4166B1D3293455FA56E76D6D4BFDF29563F...    NaN           4.0   \n",
      "3  DE06D9924AD4166B1D3293455FA56E76D6D4BFDF29563F...    NaN           4.0   \n",
      "4  DE06D9924AD4166B1D3293455FA56E76D6D4BFDF29563F...    NaN           4.0   \n",
      "\n",
      "   similar_images_count  exp_ads_from_simimages_count  \n",
      "0                   0.0                           0.0  \n",
      "1                   0.0                           0.0  \n",
      "2                   0.0                           0.0  \n",
      "3                   0.0                           0.0  \n",
      "4                   0.0                           0.0  \n"
     ]
    }
   ],
   "source": [
    "print(df_with_img_count.loc[:,['cdr_id','class','images_count', 'similar_images_count','exp_ads_from_simimages_count']].head())"
   ]
  },
  {
   "cell_type": "code",
   "execution_count": 18,
   "metadata": {
    "collapsed": false
   },
   "outputs": [],
   "source": [
    "df_with_img_count.to_csv('../../data/eval/partial_test_data_to_use_by_ad_with_exp_imgs_v2.csv', index=False)"
   ]
  },
  {
   "cell_type": "code",
   "execution_count": null,
   "metadata": {
    "collapsed": true
   },
   "outputs": [],
   "source": []
  }
 ],
 "metadata": {
  "kernelspec": {
   "display_name": "Python 3",
   "language": "python",
   "name": "python3"
  },
  "language_info": {
   "codemirror_mode": {
    "name": "ipython",
    "version": 3
   },
   "file_extension": ".py",
   "mimetype": "text/x-python",
   "name": "python",
   "nbconvert_exporter": "python",
   "pygments_lexer": "ipython3",
   "version": "3.5.1"
  }
 },
 "nbformat": 4,
 "nbformat_minor": 0
}
