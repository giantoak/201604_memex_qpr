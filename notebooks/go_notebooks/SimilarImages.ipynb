{
 "cells": [
  {
   "cell_type": "code",
   "execution_count": 38,
   "metadata": {
    "collapsed": false
   },
   "outputs": [
    {
     "name": "stderr",
     "output_type": "stream",
     "text": [
      "/Users/svebor/anaconda/envs/memex_qpr_april_2016_cp1_python3/lib/python3.5/site-packages/matplotlib/__init__.py:1350: UserWarning:  This call to matplotlib.use() has no effect\n",
      "because the backend has already been chosen;\n",
      "matplotlib.use() must be called *before* pylab, matplotlib.pyplot,\n",
      "or matplotlib.backends is imported for the first time.\n",
      "\n",
      "  warnings.warn(_use_error_msg)\n"
     ]
    }
   ],
   "source": [
    "from itertools import chain\n",
    "# To make it work on OS X\n",
    "import matplotlib\n",
    "matplotlib.use('TkAgg')\n",
    "# --\n",
    "import ujson as json\n",
    "import multiprocessing as mp\n",
    "import numpy as np\n",
    "import pandas as pd\n",
    "import seaborn as sns\n",
    "from sklearn.linear_model import LinearRegression\n",
    "from sklearn.ensemble import ExtraTreesClassifier\n",
    "from sklearn.cross_validation import ShuffleSplit\n",
    "from sklearn.metrics import roc_curve\n",
    "from sklearn.metrics import auc\n",
    "from sklearn.metrics import precision_recall_fscore_support\n",
    "\n",
    "from helpers import disaggregated_df\n",
    "from helpers import aggregated_df\n",
    "from helpers import dummify_df\n",
    "\n",
    "%matplotlib inline\n",
    "sns.set(font='monospace')"
   ]
  },
  {
   "cell_type": "code",
   "execution_count": 59,
   "metadata": {
    "collapsed": false
   },
   "outputs": [],
   "source": [
    "def format_jsns_to_key_count(jsns):\n",
    "    records = []\n",
    "    for record in jsns:\n",
    "        key = list(record.keys())\n",
    "        #print(key[0],len(record[key[0]]))\n",
    "        records.append((key[0],np.asarray([len(record[key[0]])])))\n",
    "    return records"
   ]
  },
  {
   "cell_type": "code",
   "execution_count": 103,
   "metadata": {
    "collapsed": false
   },
   "outputs": [
    {
     "name": "stdout",
     "output_type": "stream",
     "text": [
      "{'ethnicity': {'attribs': {'type': 'Ethnicity', 'website': 'github.com/istresearch', 'version': '1.0'}, 'results': ['white']}, 'title': {'attribs': {'class': 'custom', 'type': 'title', 'website': 'github.com\\\\/istresearch', 'version': '1.0', 'target': 'backpage'}, 'results': ['?SLiPP?RY ???????? ? ????? ? ?????? ????????U?iV? BLONDE ?????RATD? - Odessa escorts - backpage.com']}, 'text': {'attribs': {'class': 'custom', 'type': 'text', 'website': 'github.com\\\\/istresearch', 'version': '1.0', 'target': 'backpage'}, 'results': [\"Hey guys I'm Amber I'm a sexy naughty white playmate seeking the company of upscale n@ughty mature gentlemen? <br>\\n?INDEPENDENT & PROFESSIONAL SERVICE <br>\\n?100% CLEAN&SAFE NO EXCEPTIONS <br>\\n?HYGIENE GUARANTEED & EXPECTED <br>\\n?Height: 55<br>\\n?Weight: 135<br>\\n?Breast: 34C (ALL NATURAL!) <br>\\n?FOR THE N@UGHTY BOYS ASK FOR AMBER ? <br>\\n?NO BLACK MEN OR THUGS? <br>\\n<br>\\n??832-532-6351?? <br>\\n<br>\\n??Explicit Content will get you BLOCKED?\"]}, 'posttime': {'attribs': {'class': 'custom', 'type': 'posttime', 'website': 'github.com\\\\/istresearch', 'version': '1.0', 'target': 'backpage'}, 'results': ['Monday, June 22, 2015 3:53 PM']}, 'city': {'attribs': {'class': 'custom', 'type': 'city', 'website': 'github.com\\\\/istresearch', 'version': '1.0', 'target': 'backpage'}, 'results': ['odessa,tx']}, 'sid': {'attribs': {'class': 'custom', 'type': 'sid', 'website': 'github.com\\\\/istresearch', 'version': '1.0', 'target': 'backpage'}, 'results': ['8981638']}, 'phonenumber': {'attribs': {'type': 'Phone number', 'website': 'github.com/istresearch', 'version': '1.0'}, 'results': ['8325326351', '222015353']}, 'age': {'attribs': {'class': 'custom', 'type': 'age', 'website': 'github.com\\\\/istresearch', 'version': '1.0', 'target': 'backpage'}, 'results': ['19']}, 'region': {'attribs': {'class': 'custom', 'type': 'region', 'website': 'github.com\\\\/istresearch', 'version': '1.0', 'target': 'backpage'}, 'results': ['odessa']}, 'userlocation': {'attribs': {'class': 'custom', 'type': 'userlocation', 'website': 'github.com\\\\/istresearch', 'version': '1.0', 'target': 'backpage'}, 'results': ['Midland / Odessa, Odessa']}}\n"
     ]
    }
   ],
   "source": [
    "jsns = [json.loads(x) for x in open('../../data/orig_ht_data/ht_training_UPDATED', 'r')]"
   ]
  },
  {
   "cell_type": "markdown",
   "metadata": {},
   "source": [
    "# Load similar images info"
   ]
  },
  {
   "cell_type": "code",
   "execution_count": 143,
   "metadata": {
    "collapsed": false
   },
   "outputs": [],
   "source": [
    "jsns = [json.loads(x) for x in open('../../data/images_expanded/ht_training_UPDATED_images.jl', 'r')]\n",
    "jsns.extend([json.loads(x) for x in open('../../data/images_expanded/ht_training_2_images.jl', 'r')])\n",
    "jsns.extend([json.loads(x) for x in open('../../data/images_expanded/cp1_random.json_images.jl', 'r')])\n",
    "records_images = format_jsns_to_key_count(jsns)"
   ]
  },
  {
   "cell_type": "code",
   "execution_count": 144,
   "metadata": {
    "collapsed": false
   },
   "outputs": [
    {
     "name": "stdout",
     "output_type": "stream",
     "text": [
      "16572\n"
     ]
    }
   ],
   "source": [
    "print(len(records_images))"
   ]
  },
  {
   "cell_type": "code",
   "execution_count": 145,
   "metadata": {
    "collapsed": false
   },
   "outputs": [],
   "source": [
    "df_images = pd.DataFrame.from_items(records_images,orient='index',columns=['images_count'])"
   ]
  },
  {
   "cell_type": "code",
   "execution_count": 146,
   "metadata": {
    "collapsed": false
   },
   "outputs": [
    {
     "name": "stdout",
     "output_type": "stream",
     "text": [
      "16572\n"
     ]
    }
   ],
   "source": [
    "#print(df_images.head())\n",
    "print(len(df_images.index.get_values()))"
   ]
  },
  {
   "cell_type": "code",
   "execution_count": 150,
   "metadata": {
    "collapsed": true
   },
   "outputs": [],
   "source": [
    "jsns = [json.loads(x) for x in open('../../data/images_expanded/ht_training_UPDATED_similar_images_count_th100_dist_th0.1.jsonl', 'r')]\n",
    "jsns.extend([json.loads(x) for x in open('../../data/images_expanded/ht_training_2_similar_images_count_th100_dist_th0.1.jsonl', 'r')])\n",
    "jsns.extend([json.loads(x) for x in open('../../data/images_expanded/cp1_random.json_similar_images_count_th100_dist_th0.1.jsonl', 'r')])\n",
    "records_images_similar = format_jsns_to_key_count(jsns)\n",
    "df_images_similar = pd.DataFrame.from_items(records_images_similar,orient='index',columns=['similar_images_count'])"
   ]
  },
  {
   "cell_type": "code",
   "execution_count": 151,
   "metadata": {
    "collapsed": false
   },
   "outputs": [
    {
     "name": "stdout",
     "output_type": "stream",
     "text": [
      "16572\n"
     ]
    }
   ],
   "source": [
    "print(len(df_images_similar.index.get_values()))"
   ]
  },
  {
   "cell_type": "code",
   "execution_count": 152,
   "metadata": {
    "collapsed": false
   },
   "outputs": [
    {
     "name": "stdout",
     "output_type": "stream",
     "text": [
      "                                                    exp_ads_from_simimages_count\n",
      "16A2C382C32C9B8D8510597C4FC8483717375AD49CDB3D1...                           183\n",
      "DD80A66ED5E3A506995497DFF2E25E01F49721AA676665D...                           187\n",
      "1AD112FF2F4197B344BFF1203B53EF63A400FE0F2BAB0ED...                             2\n",
      "D513648E2D9A427738C80FE627873D7D187C440E9EC2C72...                             0\n",
      "2EDCF618255FC6ABD82FC1409DE453578D6E6F20E4B2290...                             6\n"
     ]
    }
   ],
   "source": [
    "jsns = [json.loads(x) for x in open('../../data/images_expanded/ht_training_UPDATED_expanded_ads_from_similar_images_count_th100_dist_th0.1.jsonl', 'r')]\n",
    "jsns.extend([json.loads(x) for x in open('../../data/images_expanded/ht_training_2_expanded_ads_from_similar_images_count_th100_dist_th0.1.jsonl', 'r')])\n",
    "jsns.extend([json.loads(x) for x in open('../../data/images_expanded/cp1_random.json_expanded_ads_from_similar_images_count_th100_dist_th0.1.jsonl', 'r')])\n",
    "records_exp_ads_from_simimages = format_jsns_to_key_count(jsns)\n",
    "df_exp_ads_from_simimages = pd.DataFrame.from_items(records_exp_ads_from_simimages,orient='index',columns=['exp_ads_from_simimages_count'])"
   ]
  },
  {
   "cell_type": "code",
   "execution_count": 153,
   "metadata": {
    "collapsed": false
   },
   "outputs": [
    {
     "name": "stdout",
     "output_type": "stream",
     "text": [
      "16572\n"
     ]
    }
   ],
   "source": [
    "print(len(df_exp_ads_from_simimages.index.get_values()))"
   ]
  },
  {
   "cell_type": "markdown",
   "metadata": {},
   "source": [
    "## Try to merge with df"
   ]
  },
  {
   "cell_type": "code",
   "execution_count": 154,
   "metadata": {
    "collapsed": true
   },
   "outputs": [],
   "source": [
    "df = pd.read_csv('../../data/merged/data_to_use_by_ad_v3.csv')"
   ]
  },
  {
   "cell_type": "code",
   "execution_count": 155,
   "metadata": {
    "collapsed": false
   },
   "outputs": [
    {
     "name": "stdout",
     "output_type": "stream",
     "text": [
      "Index(['class', 'phone', 'dd_id', 'price', 'duration_in_mins', 'flag', 'age',\n",
      "       'area', 'area_type', 'ethnicity', 'cdr_id', 'price_per_min', 'Disease',\n",
      "       'Year', 'Cases', 'Rate', 'MSA', 'property', 'rape', 'violent',\n",
      "       'male_wage_mean', 'male_wage_p05', 'male_wage_p10', 'male_wage_p25',\n",
      "       'male_wage_p50', 'male_wage_p75', 'male_wage_p90', 'male_wage_p95',\n",
      "       'male_N', 'male_epop', 'qcew_code', 'msa', 'population', 'unemployment',\n",
      "       'lt_highschool', 'highschool', 'some_college', 'college_plus',\n",
      "       'frac_white', 'avg_commute', 'female_wage_mean', 'wage_var.wage',\n",
      "       'female_wage_p05', 'female_wage_p10', 'female_wage_p25',\n",
      "       'female_wage_p50', 'female_wage_p75', 'female_wage_p90',\n",
      "       'female_wage_p95', 'female_N', 'wage_sum.wght', 'female_epop',\n",
      "       'swnauthemp', 'swnftemp', 'ad_p10_msa', 'ad_p90_msa', 'ad_mean_msa',\n",
      "       'ad_median_msa', 'ad_count_msa', 'ad_p50_msa'],\n",
      "      dtype='object')\n"
     ]
    }
   ],
   "source": [
    "print(df.columns)"
   ]
  },
  {
   "cell_type": "code",
   "execution_count": 156,
   "metadata": {
    "collapsed": false
   },
   "outputs": [
    {
     "name": "stdout",
     "output_type": "stream",
     "text": [
      "60 Index(['class', 'phone', 'dd_id', 'price', 'duration_in_mins', 'flag', 'age',\n",
      "       'area', 'area_type', 'ethnicity', 'cdr_id', 'price_per_min', 'Disease',\n",
      "       'Year', 'Cases', 'Rate', 'MSA', 'property', 'rape', 'violent',\n",
      "       'male_wage_mean', 'male_wage_p05', 'male_wage_p10', 'male_wage_p25',\n",
      "       'male_wage_p50', 'male_wage_p75', 'male_wage_p90', 'male_wage_p95',\n",
      "       'male_N', 'male_epop', 'qcew_code', 'msa', 'population', 'unemployment',\n",
      "       'lt_highschool', 'highschool', 'some_college', 'college_plus',\n",
      "       'frac_white', 'avg_commute', 'female_wage_mean', 'wage_var.wage',\n",
      "       'female_wage_p05', 'female_wage_p10', 'female_wage_p25',\n",
      "       'female_wage_p50', 'female_wage_p75', 'female_wage_p90',\n",
      "       'female_wage_p95', 'female_N', 'wage_sum.wght', 'female_epop',\n",
      "       'swnauthemp', 'swnftemp', 'ad_p10_msa', 'ad_p90_msa', 'ad_mean_msa',\n",
      "       'ad_median_msa', 'ad_count_msa', 'ad_p50_msa'],\n",
      "      dtype='object')\n",
      "63 Index(['class', 'phone', 'dd_id', 'price', 'duration_in_mins', 'flag', 'age',\n",
      "       'area', 'area_type', 'ethnicity', 'cdr_id', 'price_per_min', 'Disease',\n",
      "       'Year', 'Cases', 'Rate', 'MSA', 'property', 'rape', 'violent',\n",
      "       'male_wage_mean', 'male_wage_p05', 'male_wage_p10', 'male_wage_p25',\n",
      "       'male_wage_p50', 'male_wage_p75', 'male_wage_p90', 'male_wage_p95',\n",
      "       'male_N', 'male_epop', 'qcew_code', 'msa', 'population', 'unemployment',\n",
      "       'lt_highschool', 'highschool', 'some_college', 'college_plus',\n",
      "       'frac_white', 'avg_commute', 'female_wage_mean', 'wage_var.wage',\n",
      "       'female_wage_p05', 'female_wage_p10', 'female_wage_p25',\n",
      "       'female_wage_p50', 'female_wage_p75', 'female_wage_p90',\n",
      "       'female_wage_p95', 'female_N', 'wage_sum.wght', 'female_epop',\n",
      "       'swnauthemp', 'swnftemp', 'ad_p10_msa', 'ad_p90_msa', 'ad_mean_msa',\n",
      "       'ad_median_msa', 'ad_count_msa', 'ad_p50_msa', 'images_count',\n",
      "       'exp_ads_from_simimages_count', 'similar_images_count'],\n",
      "      dtype='object')\n",
      "(144121, 60)\n",
      "(191949, 63)\n"
     ]
    }
   ],
   "source": [
    "# Merge column \"cdr_id\" with index of the other data frames\n",
    "print(len(df.columns),df.columns)\n",
    "df_with_img_count = pd.merge(df, df_images, how='left', left_on='cdr_id', right_index=True)\n",
    "df_with_img_count = pd.merge(df_with_img_count, df_exp_ads_from_simimages, how='left', left_on='cdr_id', right_index=True)\n",
    "df_with_img_count = pd.merge(df_with_img_count, df_images_similar, how='left', left_on='cdr_id', right_index=True)\n",
    "print(len(df_with_img_count.columns),df_with_img_count.columns)\n",
    "print(df.shape)\n",
    "print(df_with_img_count.shape)\n",
    "# Missing all the negatives?"
   ]
  },
  {
   "cell_type": "code",
   "execution_count": 158,
   "metadata": {
    "collapsed": false
   },
   "outputs": [
    {
     "name": "stdout",
     "output_type": "stream",
     "text": [
      "83215\n"
     ]
    }
   ],
   "source": [
    "#print(df_with_img_count.columns)\n",
    "print(pd.isnull(df_with_img_count.similar_images_count).sum())\n",
    "#print(df.cdr_id[0])"
   ]
  },
  {
   "cell_type": "code",
   "execution_count": 160,
   "metadata": {
    "collapsed": false
   },
   "outputs": [
    {
     "name": "stdout",
     "output_type": "stream",
     "text": [
      "                                              cdr_id     class  images_count  \\\n",
      "0  9A1C8836A1FC78FA27E00749F95B6604632E878C038746...  positive           NaN   \n",
      "1  83460C6DDEC972921F2AC09E5E24ECC857FDAF29F0767C...  positive           7.0   \n",
      "2  0196C9051EC97B5736A107DAD33CF35DB9CFA78E49C633...  positive           NaN   \n",
      "3  2EDCF618255FC6ABD82FC1409DE453578D6E6F20E4B229...  positive           2.0   \n",
      "4  2EDCF618255FC6ABD82FC1409DE453578D6E6F20E4B229...  positive           2.0   \n",
      "\n",
      "   similar_images_count  exp_ads_from_simimages_count  \n",
      "0                   NaN                           NaN  \n",
      "1                 270.0                         278.0  \n",
      "2                   NaN                           NaN  \n",
      "3                  12.0                           6.0  \n",
      "4                  12.0                           6.0  \n"
     ]
    }
   ],
   "source": [
    "print(df_with_img_count.loc[:,['cdr_id','class','images_count', 'similar_images_count','exp_ads_from_simimages_count']].head())"
   ]
  },
  {
   "cell_type": "code",
   "execution_count": 163,
   "metadata": {
    "collapsed": false
   },
   "outputs": [],
   "source": [
    "df_with_img_count.to_csv('../../data/images_expanded/data_to_use_by_ad_v3_with_exp_imgs.csv', index=False)"
   ]
  }
 ],
 "metadata": {
  "kernelspec": {
   "display_name": "Python 3",
   "language": "python",
   "name": "python3"
  },
  "language_info": {
   "codemirror_mode": {
    "name": "ipython",
    "version": 3
   },
   "file_extension": ".py",
   "mimetype": "text/x-python",
   "name": "python",
   "nbconvert_exporter": "python",
   "pygments_lexer": "ipython3",
   "version": "3.5.1"
  }
 },
 "nbformat": 4,
 "nbformat_minor": 0
}
